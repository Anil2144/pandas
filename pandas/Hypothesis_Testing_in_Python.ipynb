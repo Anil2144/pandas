{
  "nbformat": 4,
  "nbformat_minor": 0,
  "metadata": {
    "kernelspec": {
      "display_name": "Python 3",
      "language": "python",
      "name": "python3"
    },
    "language_info": {
      "codemirror_mode": {
        "name": "ipython",
        "version": 3
      },
      "file_extension": ".py",
      "mimetype": "text/x-python",
      "name": "python",
      "nbconvert_exporter": "python",
      "pygments_lexer": "ipython3",
      "version": "3.7.4"
    },
    "colab": {
      "name": "Hypothesis_Testing in Python.ipynb",
      "provenance": []
    }
  },
  "cells": [
    {
      "cell_type": "markdown",
      "metadata": {
        "id": "KspQC-7IepRI",
        "colab_type": "text"
      },
      "source": [
        "### Example 1"
      ]
    },
    {
      "cell_type": "markdown",
      "metadata": {
        "id": "hgdPFR2uepRK",
        "colab_type": "text"
      },
      "source": [
        "#### A manufacturer produces bolts with a thickness of exactly 1 inch . A customer takes a random sample of 100 bolts and find that mean is 1.2 inches and standard deviation is .4 inches. Should the manufactures's claim that the bolts are exactly 1 inch be rejected? test at significance level 0.01"
      ]
    },
    {
      "cell_type": "code",
      "metadata": {
        "id": "tAP6yfLGepRK",
        "colab_type": "code",
        "colab": {}
      },
      "source": [
        "import numpy as np\n",
        "import pandas as pd\n",
        "from scipy import stats\n",
        "from statsmodels.stats import weightstats as stests"
      ],
      "execution_count": null,
      "outputs": []
    },
    {
      "cell_type": "code",
      "metadata": {
        "id": "j6aLnghFepRP",
        "colab_type": "code",
        "colab": {}
      },
      "source": [
        "alpha = 0.01"
      ],
      "execution_count": null,
      "outputs": []
    },
    {
      "cell_type": "code",
      "metadata": {
        "id": "Zd7xYoqaepRT",
        "colab_type": "code",
        "colab": {},
        "outputId": "2de22a18-03ae-4b8f-eb97-dfd501308ffc"
      },
      "source": [
        "data = np.random.normal(loc=1.20, scale=.40, size=100)\n",
        "data"
      ],
      "execution_count": null,
      "outputs": [
        {
          "output_type": "execute_result",
          "data": {
            "text/plain": [
              "array([1.82621228, 1.96596612, 1.33120624, 1.46281162, 1.98910153,\n",
              "       1.32886515, 1.79992228, 1.34793673, 0.36400743, 1.22976698,\n",
              "       1.17244296, 1.28870527, 1.28619599, 0.83482721, 1.37588942,\n",
              "       0.90758067, 1.09417553, 1.07472049, 0.924891  , 1.47699803,\n",
              "       0.99565756, 1.27752798, 1.30480052, 1.2601102 , 1.09882423,\n",
              "       1.69644095, 1.15785527, 0.95558472, 0.76140209, 1.08039383,\n",
              "       0.69837565, 0.61674324, 1.35865487, 1.5429802 , 1.17725022,\n",
              "       0.90309846, 1.90967939, 1.73511487, 1.5516672 , 0.69395274,\n",
              "       0.88866878, 0.90003545, 1.30745246, 1.44032053, 1.17141909,\n",
              "       0.49009997, 0.765894  , 1.34791555, 1.4319447 , 0.98406205,\n",
              "       1.06760873, 1.03298069, 0.32632084, 1.40737761, 0.92422753,\n",
              "       1.22623063, 0.62426704, 1.05685243, 1.37262969, 1.52796834,\n",
              "       1.71379122, 1.08096541, 0.82844758, 1.88895809, 0.50703655,\n",
              "       0.06069812, 0.55750658, 0.71172157, 1.49421095, 1.67970291,\n",
              "       0.64389466, 1.37242224, 1.28745808, 1.01026244, 1.0973004 ,\n",
              "       1.00609703, 1.00190169, 1.80311711, 0.9407847 , 0.52995392,\n",
              "       1.08910562, 1.2652486 , 1.51768324, 1.34681369, 1.09189764,\n",
              "       1.63195147, 1.52276541, 1.4813182 , 1.0369323 , 0.09154175,\n",
              "       1.49322185, 1.08551228, 0.93397454, 1.10198783, 1.16367666,\n",
              "       1.71033586, 1.38836691, 1.55881464, 0.9722314 , 0.40522414])"
            ]
          },
          "metadata": {
            "tags": []
          },
          "execution_count": 23
        }
      ]
    },
    {
      "cell_type": "code",
      "metadata": {
        "id": "FdTFXVDcepRZ",
        "colab_type": "code",
        "colab": {}
      },
      "source": [
        "bolts = pd.DataFrame(data, columns = ['thickness'])"
      ],
      "execution_count": null,
      "outputs": []
    },
    {
      "cell_type": "code",
      "metadata": {
        "id": "BptBYwChepRc",
        "colab_type": "code",
        "colab": {},
        "outputId": "4693e02e-d520-4d55-98cc-d1d322ee779c"
      },
      "source": [
        "data.mean(), data.std()"
      ],
      "execution_count": null,
      "outputs": [
        {
          "output_type": "execute_result",
          "data": {
            "text/plain": [
              "(1.1418284762224802, 0.33345916805588033)"
            ]
          },
          "metadata": {
            "tags": []
          },
          "execution_count": 5
        }
      ]
    },
    {
      "cell_type": "code",
      "metadata": {
        "id": "pwHZPwUOepRg",
        "colab_type": "code",
        "colab": {},
        "outputId": "ea9bc316-a7b3-4280-8fc1-0c9e05299206"
      },
      "source": [
        "help(stests.ztest)"
      ],
      "execution_count": null,
      "outputs": [
        {
          "output_type": "stream",
          "text": [
            "Help on function ztest in module statsmodels.stats.weightstats:\n",
            "\n",
            "ztest(x1, x2=None, value=0, alternative='two-sided', usevar='pooled', ddof=1.0)\n",
            "    test for mean based on normal distribution, one or two samples\n",
            "    \n",
            "    In the case of two samples, the samples are assumed to be independent.\n",
            "    \n",
            "    Parameters\n",
            "    ----------\n",
            "    x1 : array_like, 1-D or 2-D\n",
            "        first of the two independent samples\n",
            "    x2 : array_like, 1-D or 2-D\n",
            "        second of the two independent samples\n",
            "    value : float\n",
            "        In the one sample case, value is the mean of x1 under the Null\n",
            "        hypothesis.\n",
            "        In the two sample case, value is the difference between mean of x1 and\n",
            "        mean of x2 under the Null hypothesis. The test statistic is\n",
            "        `x1_mean - x2_mean - value`.\n",
            "    alternative : string\n",
            "        The alternative hypothesis, H1, has to be one of the following\n",
            "    \n",
            "           'two-sided': H1: difference in means not equal to value (default)\n",
            "           'larger' :   H1: difference in means larger than value\n",
            "           'smaller' :  H1: difference in means smaller than value\n",
            "    \n",
            "    usevar : string, 'pooled'\n",
            "        Currently, only 'pooled' is implemented.\n",
            "        If ``pooled``, then the standard deviation of the samples is assumed to be\n",
            "        the same. see CompareMeans.ztest_ind for different options.\n",
            "    ddof : int\n",
            "        Degrees of freedom use in the calculation of the variance of the mean\n",
            "        estimate. In the case of comparing means this is one, however it can\n",
            "        be adjusted for testing other statistics (proportion, correlation)\n",
            "    \n",
            "    Returns\n",
            "    -------\n",
            "    tstat : float\n",
            "        test statisic\n",
            "    pvalue : float\n",
            "        pvalue of the t-test\n",
            "    \n",
            "    Notes\n",
            "    -----\n",
            "    usevar not implemented, is always pooled in two sample case\n",
            "    use CompareMeans instead.\n",
            "\n"
          ],
          "name": "stdout"
        }
      ]
    },
    {
      "cell_type": "code",
      "metadata": {
        "id": "lwho8ES2epRj",
        "colab_type": "code",
        "colab": {},
        "outputId": "96193594-1643-4308-c323-0c4326012dac"
      },
      "source": [
        "bolts"
      ],
      "execution_count": null,
      "outputs": [
        {
          "output_type": "execute_result",
          "data": {
            "text/html": [
              "<div>\n",
              "<style scoped>\n",
              "    .dataframe tbody tr th:only-of-type {\n",
              "        vertical-align: middle;\n",
              "    }\n",
              "\n",
              "    .dataframe tbody tr th {\n",
              "        vertical-align: top;\n",
              "    }\n",
              "\n",
              "    .dataframe thead th {\n",
              "        text-align: right;\n",
              "    }\n",
              "</style>\n",
              "<table border=\"1\" class=\"dataframe\">\n",
              "  <thead>\n",
              "    <tr style=\"text-align: right;\">\n",
              "      <th></th>\n",
              "      <th>thickness</th>\n",
              "    </tr>\n",
              "  </thead>\n",
              "  <tbody>\n",
              "    <tr>\n",
              "      <td>0</td>\n",
              "      <td>1.216050</td>\n",
              "    </tr>\n",
              "    <tr>\n",
              "      <td>1</td>\n",
              "      <td>1.492206</td>\n",
              "    </tr>\n",
              "    <tr>\n",
              "      <td>2</td>\n",
              "      <td>0.775547</td>\n",
              "    </tr>\n",
              "    <tr>\n",
              "      <td>3</td>\n",
              "      <td>0.985855</td>\n",
              "    </tr>\n",
              "    <tr>\n",
              "      <td>4</td>\n",
              "      <td>1.109116</td>\n",
              "    </tr>\n",
              "    <tr>\n",
              "      <td>...</td>\n",
              "      <td>...</td>\n",
              "    </tr>\n",
              "    <tr>\n",
              "      <td>95</td>\n",
              "      <td>0.806221</td>\n",
              "    </tr>\n",
              "    <tr>\n",
              "      <td>96</td>\n",
              "      <td>1.014225</td>\n",
              "    </tr>\n",
              "    <tr>\n",
              "      <td>97</td>\n",
              "      <td>1.042920</td>\n",
              "    </tr>\n",
              "    <tr>\n",
              "      <td>98</td>\n",
              "      <td>1.135865</td>\n",
              "    </tr>\n",
              "    <tr>\n",
              "      <td>99</td>\n",
              "      <td>0.438339</td>\n",
              "    </tr>\n",
              "  </tbody>\n",
              "</table>\n",
              "<p>100 rows × 1 columns</p>\n",
              "</div>"
            ],
            "text/plain": [
              "    thickness\n",
              "0    1.216050\n",
              "1    1.492206\n",
              "2    0.775547\n",
              "3    0.985855\n",
              "4    1.109116\n",
              "..        ...\n",
              "95   0.806221\n",
              "96   1.014225\n",
              "97   1.042920\n",
              "98   1.135865\n",
              "99   0.438339\n",
              "\n",
              "[100 rows x 1 columns]"
            ]
          },
          "metadata": {
            "tags": []
          },
          "execution_count": 24
        }
      ]
    },
    {
      "cell_type": "code",
      "metadata": {
        "id": "pvfsYx4-epRp",
        "colab_type": "code",
        "colab": {}
      },
      "source": [
        "zstatistic ,pval = stests.ztest(bolts['thickness'], x2=None, value=1,  alternative='two-sided')"
      ],
      "execution_count": null,
      "outputs": []
    },
    {
      "cell_type": "code",
      "metadata": {
        "id": "wpecCkRXepRs",
        "colab_type": "code",
        "colab": {},
        "outputId": "f7ba817b-d72e-4905-918e-99fb0092b116"
      },
      "source": [
        "zstatistic, pval"
      ],
      "execution_count": null,
      "outputs": [
        {
          "output_type": "execute_result",
          "data": {
            "text/plain": [
              "(4.231928991128971, 2.316955647402102e-05)"
            ]
          },
          "metadata": {
            "tags": []
          },
          "execution_count": 26
        }
      ]
    },
    {
      "cell_type": "code",
      "metadata": {
        "id": "LKakp6OUepRv",
        "colab_type": "code",
        "colab": {},
        "outputId": "80df484a-97ce-4305-baaf-e8bc4f9c01fe"
      },
      "source": [
        "#p_values = scipy.stats.norm.sf(abs(z_scores)) #one-sided\n",
        "z_score = 4.231928991128971\n",
        "p_value = stats.norm.sf(abs(z_score))*2 #twosided\n",
        "p_value"
      ],
      "execution_count": null,
      "outputs": [
        {
          "output_type": "execute_result",
          "data": {
            "text/plain": [
              "2.316955647402102e-05"
            ]
          },
          "metadata": {
            "tags": []
          },
          "execution_count": 31
        }
      ]
    },
    {
      "cell_type": "code",
      "metadata": {
        "id": "gmCN7g3KepRy",
        "colab_type": "code",
        "colab": {},
        "outputId": "32a83f41-2a38-4822-aabb-3645d088927a"
      },
      "source": [
        "alpha, pval"
      ],
      "execution_count": null,
      "outputs": [
        {
          "output_type": "execute_result",
          "data": {
            "text/plain": [
              "(0.01, 2.316955647402102e-05)"
            ]
          },
          "metadata": {
            "tags": []
          },
          "execution_count": 29
        }
      ]
    },
    {
      "cell_type": "code",
      "metadata": {
        "id": "IDt_9ha-epR3",
        "colab_type": "code",
        "colab": {},
        "outputId": "5e19d0ce-2b7f-422d-e212-c61f6f70f2c6"
      },
      "source": [
        "if pval<alpha:\n",
        "    print(\"reject null hypothesis\")\n",
        "else:\n",
        "    print(\"do not reject null hypothesis\")"
      ],
      "execution_count": null,
      "outputs": [
        {
          "output_type": "stream",
          "text": [
            "reject null hypothesis\n"
          ],
          "name": "stdout"
        }
      ]
    },
    {
      "cell_type": "markdown",
      "metadata": {
        "id": "KbkR6H89epR6",
        "colab_type": "text"
      },
      "source": [
        "### On Summary data"
      ]
    },
    {
      "cell_type": "code",
      "metadata": {
        "id": "7M8pEG9YepR7",
        "colab_type": "code",
        "colab": {}
      },
      "source": [
        "import math as m"
      ],
      "execution_count": null,
      "outputs": []
    },
    {
      "cell_type": "code",
      "metadata": {
        "id": "bZVDC_zSepR-",
        "colab_type": "code",
        "colab": {}
      },
      "source": [
        "n = 100\n",
        "mu = 1\n",
        "xbar = 1.2\n",
        "s = .4\n",
        "se = s/m.sqrt(n)\n",
        "alpha = 0.01"
      ],
      "execution_count": null,
      "outputs": []
    },
    {
      "cell_type": "code",
      "metadata": {
        "id": "pgBKUYScepSA",
        "colab_type": "code",
        "colab": {},
        "outputId": "78dbaa27-5652-4b35-9288-f548ab30652a"
      },
      "source": [
        "se"
      ],
      "execution_count": null,
      "outputs": [
        {
          "output_type": "execute_result",
          "data": {
            "text/plain": [
              "0.04"
            ]
          },
          "metadata": {
            "tags": []
          },
          "execution_count": 19
        }
      ]
    },
    {
      "cell_type": "code",
      "metadata": {
        "id": "LdOx_DrwepSD",
        "colab_type": "code",
        "colab": {},
        "outputId": "1d7bc396-a10b-426f-b530-41ee022178cf"
      },
      "source": [
        "stests._zstat_generic(xbar,value2 = 0, std_diff = se, alternative= 'two-sided', diff=mu)"
      ],
      "execution_count": null,
      "outputs": [
        {
          "output_type": "execute_result",
          "data": {
            "text/plain": [
              "(4.999999999999999, 5.73303143758389e-07)"
            ]
          },
          "metadata": {
            "tags": []
          },
          "execution_count": 20
        }
      ]
    },
    {
      "cell_type": "markdown",
      "metadata": {
        "id": "IrXg5rZSepSG",
        "colab_type": "text"
      },
      "source": [
        "### Example 2"
      ]
    },
    {
      "cell_type": "markdown",
      "metadata": {
        "id": "uACfXu5gepSH",
        "colab_type": "text"
      },
      "source": [
        "#### A resercher claims that 10 year old watch 6.6 hours of TV daily. Try to verify this with fallowing sample data \n",
        "#### n =100 \n",
        "#### xbar = 6.1 hours \n",
        "#### S = 2.5 hours \n",
        "#### alpha = .01"
      ]
    },
    {
      "cell_type": "code",
      "metadata": {
        "id": "jIgkyOUiepSI",
        "colab_type": "code",
        "colab": {}
      },
      "source": [
        "alpha = .01\n",
        "data = np.random.normal(loc=6.1, scale=2.5, size=100)\n",
        "df = pd.DataFrame(data, columns = ['hours'])"
      ],
      "execution_count": null,
      "outputs": []
    },
    {
      "cell_type": "code",
      "metadata": {
        "id": "hVYv3xi_epSL",
        "colab_type": "code",
        "colab": {},
        "outputId": "d52b5407-1188-4cda-8d25-a12e62f6f501"
      },
      "source": [
        "df.hours.mean(), df.hours.std()"
      ],
      "execution_count": null,
      "outputs": [
        {
          "output_type": "execute_result",
          "data": {
            "text/plain": [
              "(5.920677621757939, 2.577908581674117)"
            ]
          },
          "metadata": {
            "tags": []
          },
          "execution_count": 45
        }
      ]
    },
    {
      "cell_type": "code",
      "metadata": {
        "id": "zcycHxu8epSO",
        "colab_type": "code",
        "colab": {},
        "outputId": "af093ff5-fac2-4975-b087-911525c89f3f"
      },
      "source": [
        "zstatistic ,pval = stests.ztest(df['hours'], x2=None, value=6.6,  alternative='two-sided')\n",
        "zstatistic, pval"
      ],
      "execution_count": null,
      "outputs": [
        {
          "output_type": "execute_result",
          "data": {
            "text/plain": [
              "(-2.63516861331407, 0.00840954969136178)"
            ]
          },
          "metadata": {
            "tags": []
          },
          "execution_count": 46
        }
      ]
    },
    {
      "cell_type": "code",
      "metadata": {
        "id": "9C1UYZxrepSR",
        "colab_type": "code",
        "colab": {},
        "outputId": "26dd96d9-5019-4f73-b352-cee26948e361"
      },
      "source": [
        "if pval<alpha:\n",
        "    print(\"reject null hypothesis\")\n",
        "else:\n",
        "    print(\"do not reject null hypothesis\")"
      ],
      "execution_count": null,
      "outputs": [
        {
          "output_type": "stream",
          "text": [
            "reject null hypothesis\n"
          ],
          "name": "stdout"
        }
      ]
    },
    {
      "cell_type": "code",
      "metadata": {
        "id": "PLqFoF30epSU",
        "colab_type": "code",
        "colab": {}
      },
      "source": [
        "n = 100\n",
        "mu = 6.6\n",
        "xbar = 6.1\n",
        "s = 2.5\n",
        "se = s/m.sqrt(n)\n",
        "alpha = 0.01"
      ],
      "execution_count": null,
      "outputs": []
    },
    {
      "cell_type": "code",
      "metadata": {
        "id": "8DklTnHEepSW",
        "colab_type": "code",
        "colab": {}
      },
      "source": [
        "z, pval = stests._zstat_generic(xbar,value2 = 0, std_diff = se, alternative= 'two-sided', diff=mu)"
      ],
      "execution_count": null,
      "outputs": []
    },
    {
      "cell_type": "code",
      "metadata": {
        "id": "m6iewM6IepSa",
        "colab_type": "code",
        "colab": {},
        "outputId": "66275d8b-6a81-494e-a58d-b1a8cda5209c"
      },
      "source": [
        "pval, z, alpha"
      ],
      "execution_count": null,
      "outputs": [
        {
          "output_type": "execute_result",
          "data": {
            "text/plain": [
              "(0.04550026389635839, -2.0, 0.01)"
            ]
          },
          "metadata": {
            "tags": []
          },
          "execution_count": 38
        }
      ]
    },
    {
      "cell_type": "code",
      "metadata": {
        "id": "PKudLQjWepSg",
        "colab_type": "code",
        "colab": {},
        "outputId": "8a89148b-517b-4af0-fd35-d818ecfc8d15"
      },
      "source": [
        "if pval<alpha:\n",
        "    print(\"reject null hypothesis\")\n",
        "else:\n",
        "    print(\"do not reject null hypothesis\")"
      ],
      "execution_count": null,
      "outputs": [
        {
          "output_type": "stream",
          "text": [
            "do not reject null hypothesis\n"
          ],
          "name": "stdout"
        }
      ]
    },
    {
      "cell_type": "markdown",
      "metadata": {
        "id": "oeWgdFMbepSk",
        "colab_type": "text"
      },
      "source": [
        "### Example 3"
      ]
    },
    {
      "cell_type": "markdown",
      "metadata": {
        "id": "r55QxCnfepSl",
        "colab_type": "text"
      },
      "source": [
        "#### A man purchases bulbs that are supposed to burn for a mean life of atleast 3000 hours with standard deviation of 500 hours. A sample of 100 bulbs is taken with\n",
        "xbar = 2800 hours\n",
        "test at alpha = .05"
      ]
    },
    {
      "cell_type": "code",
      "metadata": {
        "id": "MZSS7vgMepSl",
        "colab_type": "code",
        "colab": {}
      },
      "source": [
        "alpha = .05\n",
        "data = np.random.normal(loc=2800, scale=500, size=100)\n",
        "df = pd.DataFrame(data, columns = ['hours'])"
      ],
      "execution_count": null,
      "outputs": []
    },
    {
      "cell_type": "code",
      "metadata": {
        "id": "NOps4blsepSp",
        "colab_type": "code",
        "colab": {},
        "outputId": "013876f9-e1bb-48d2-f38c-79c47d31f654"
      },
      "source": [
        "df.hours.mean(), df.hours.std()"
      ],
      "execution_count": null,
      "outputs": [
        {
          "output_type": "execute_result",
          "data": {
            "text/plain": [
              "(2802.4564784061677, 485.7544602371917)"
            ]
          },
          "metadata": {
            "tags": []
          },
          "execution_count": 187
        }
      ]
    },
    {
      "cell_type": "code",
      "metadata": {
        "id": "2IL86q6IepSs",
        "colab_type": "code",
        "colab": {},
        "outputId": "44e1c952-79c8-4d9c-a845-685c463ef77e"
      },
      "source": [
        "zstatistic ,pval = stests.ztest(df['hours'], x2=None, value=3000,  alternative='smaller')\n",
        "zstatistic, pval"
      ],
      "execution_count": null,
      "outputs": [
        {
          "output_type": "execute_result",
          "data": {
            "text/plain": [
              "(-4.06673613449423, 2.3838086764639362e-05)"
            ]
          },
          "metadata": {
            "tags": []
          },
          "execution_count": 188
        }
      ]
    },
    {
      "cell_type": "code",
      "metadata": {
        "id": "BAh83dKxepSv",
        "colab_type": "code",
        "colab": {},
        "outputId": "3a14e86f-9f3a-46d4-f10d-399a349d81eb"
      },
      "source": [
        "if pval<alpha:\n",
        "    print(\"reject null hypothesis\")\n",
        "else:\n",
        "    print(\"do not reject null hypothesis\")"
      ],
      "execution_count": null,
      "outputs": [
        {
          "output_type": "stream",
          "text": [
            "reject null hypothesis\n"
          ],
          "name": "stdout"
        }
      ]
    },
    {
      "cell_type": "code",
      "metadata": {
        "id": "EsOeoQiHepSy",
        "colab_type": "code",
        "colab": {}
      },
      "source": [
        "n = 100\n",
        "mu = 3000\n",
        "xbar = 2800\n",
        "s = 500\n",
        "se = s/m.sqrt(n)\n",
        "alpha = 0.05"
      ],
      "execution_count": null,
      "outputs": []
    },
    {
      "cell_type": "code",
      "metadata": {
        "id": "izyzcg1gepS1",
        "colab_type": "code",
        "colab": {},
        "outputId": "817192d7-4f79-4898-8785-c3d5b0100c8f"
      },
      "source": [
        "stests._zstat_generic(xbar,value2 = 0, std_diff = se, alternative= 'smaller', diff=mu)"
      ],
      "execution_count": null,
      "outputs": [
        {
          "output_type": "execute_result",
          "data": {
            "text/plain": [
              "(-4.0, 3.167124183311986e-05)"
            ]
          },
          "metadata": {
            "tags": []
          },
          "execution_count": 51
        }
      ]
    },
    {
      "cell_type": "markdown",
      "metadata": {
        "id": "Bb1IFKhTepS4",
        "colab_type": "text"
      },
      "source": [
        "### Example4"
      ]
    },
    {
      "cell_type": "markdown",
      "metadata": {
        "id": "JFhivZ3AepS5",
        "colab_type": "text"
      },
      "source": [
        "#### n =324, xbar = 97, s = 9, mu = 100\n",
        "#### H0 >= 100\n",
        "#### H1 <100"
      ]
    },
    {
      "cell_type": "code",
      "metadata": {
        "id": "WAOKqyhIepS5",
        "colab_type": "code",
        "colab": {}
      },
      "source": [
        "alpha = .05\n",
        "data = np.random.normal(loc=97, scale=9, size=324)\n",
        "cereal = pd.DataFrame(data, columns = ['raisins'])"
      ],
      "execution_count": null,
      "outputs": []
    },
    {
      "cell_type": "code",
      "metadata": {
        "id": "qdGXDIT3epS9",
        "colab_type": "code",
        "colab": {},
        "outputId": "20398252-c45e-4ff5-9d3f-f1e61b7ed62f"
      },
      "source": [
        "cereal.raisins.mean(), cereal.raisins.std()"
      ],
      "execution_count": null,
      "outputs": [
        {
          "output_type": "execute_result",
          "data": {
            "text/plain": [
              "(96.72384098935004, 9.208726564104563)"
            ]
          },
          "metadata": {
            "tags": []
          },
          "execution_count": 230
        }
      ]
    },
    {
      "cell_type": "code",
      "metadata": {
        "id": "R_oLJk_hepTA",
        "colab_type": "code",
        "colab": {},
        "outputId": "acaa4cee-6dbd-4b80-907b-cb9cfe2ad874"
      },
      "source": [
        "zstatistic ,pval = stests.ztest(cereal['raisins'], x2=None, value=100,  alternative='smaller')\n",
        "zstatistic, pval"
      ],
      "execution_count": null,
      "outputs": [
        {
          "output_type": "execute_result",
          "data": {
            "text/plain": [
              "(-6.403802065484798, 7.577728323032049e-11)"
            ]
          },
          "metadata": {
            "tags": []
          },
          "execution_count": 231
        }
      ]
    },
    {
      "cell_type": "code",
      "metadata": {
        "id": "mZGcwjoiepTC",
        "colab_type": "code",
        "colab": {},
        "outputId": "fe204302-b1ca-4cd0-a174-4d2761e4cce3"
      },
      "source": [
        "if pval<aplha:\n",
        "    print(\"reject null hypothesis\")\n",
        "else:\n",
        "    print(\"do not reject null hypothesis\")"
      ],
      "execution_count": null,
      "outputs": [
        {
          "output_type": "stream",
          "text": [
            "reject null hypothesis\n"
          ],
          "name": "stdout"
        }
      ]
    },
    {
      "cell_type": "code",
      "metadata": {
        "id": "aYAyTvjhepTF",
        "colab_type": "code",
        "colab": {}
      },
      "source": [
        "n = 324\n",
        "mu = 100\n",
        "xbar = 97\n",
        "s = 9\n",
        "se = s/m.sqrt(n)\n",
        "alpha = 0.05"
      ],
      "execution_count": null,
      "outputs": []
    },
    {
      "cell_type": "code",
      "metadata": {
        "id": "HBpkKqK8epTJ",
        "colab_type": "code",
        "colab": {},
        "outputId": "4af51c10-765f-40c5-be59-61ddc64d8f7b"
      },
      "source": [
        "stests._zstat_generic(xbar,value2 = 0, std_diff = se, alternative= 'smaller', diff=mu)"
      ],
      "execution_count": null,
      "outputs": [
        {
          "output_type": "execute_result",
          "data": {
            "text/plain": [
              "(-6.0, 9.865876450376946e-10)"
            ]
          },
          "metadata": {
            "tags": []
          },
          "execution_count": 32
        }
      ]
    },
    {
      "cell_type": "markdown",
      "metadata": {
        "id": "CzKLk3CfepTM",
        "colab_type": "text"
      },
      "source": [
        "### Two Sample Z test"
      ]
    },
    {
      "cell_type": "code",
      "metadata": {
        "id": "35n7D1klepTN",
        "colab_type": "code",
        "colab": {}
      },
      "source": [
        "#### n1 =120, x1bar = 67500, s1 = 7200\n",
        "#### n2 = 45, x2bar = 58950, s2 = 4600\n",
        "#### H0: mu1-mu2<= 5000\n",
        "#### H1: mu1-mu2 > 5000"
      ],
      "execution_count": null,
      "outputs": []
    },
    {
      "cell_type": "code",
      "metadata": {
        "id": "mYiY5mz7epTQ",
        "colab_type": "code",
        "colab": {}
      },
      "source": [
        "alpha = .05\n",
        "data1 = np.random.normal(loc=67500, scale=7200, size=120)"
      ],
      "execution_count": null,
      "outputs": []
    },
    {
      "cell_type": "code",
      "metadata": {
        "id": "Xp205AlWepTV",
        "colab_type": "code",
        "colab": {}
      },
      "source": [
        "data2 = np.random.normal(loc=58950, scale=4600, size=45)\n",
        "df1 = pd.DataFrame(data1, columns = ['marketing'])\n",
        "df2 = pd.DataFrame(data2, columns = ['operations'])"
      ],
      "execution_count": null,
      "outputs": []
    },
    {
      "cell_type": "code",
      "metadata": {
        "id": "aLbPzx1ZepTa",
        "colab_type": "code",
        "colab": {},
        "outputId": "f28f35ff-a86c-4c96-97ec-4e5df31613df"
      },
      "source": [
        "df1['marketing'].mean(),df1['marketing'].std()"
      ],
      "execution_count": null,
      "outputs": [
        {
          "output_type": "execute_result",
          "data": {
            "text/plain": [
              "(67540.0815992262, 7098.373946921545)"
            ]
          },
          "metadata": {
            "tags": []
          },
          "execution_count": 29
        }
      ]
    },
    {
      "cell_type": "code",
      "metadata": {
        "id": "k1AKqkwXepTh",
        "colab_type": "code",
        "colab": {},
        "outputId": "bf8ae8e6-e351-480c-81cf-966b91112afd"
      },
      "source": [
        "df2['operations'].mean(), df2['operations'].std()"
      ],
      "execution_count": null,
      "outputs": [
        {
          "output_type": "execute_result",
          "data": {
            "text/plain": [
              "(58260.059881997106, 4287.499841834318)"
            ]
          },
          "metadata": {
            "tags": []
          },
          "execution_count": 30
        }
      ]
    },
    {
      "cell_type": "code",
      "metadata": {
        "id": "wOxdztmeepTk",
        "colab_type": "code",
        "colab": {},
        "outputId": "e2839dbc-cc6f-41eb-86ba-27fb01ab90d0"
      },
      "source": [
        "zstatistic ,pval = stests.ztest(df1['marketing'], df2['operations'], value=5000,  alternative='larger')\n",
        "zstatistic, pval"
      ],
      "execution_count": null,
      "outputs": [
        {
          "output_type": "execute_result",
          "data": {
            "text/plain": [
              "(3.7895222859430824, 7.546863523271352e-05)"
            ]
          },
          "metadata": {
            "tags": []
          },
          "execution_count": 31
        }
      ]
    },
    {
      "cell_type": "code",
      "metadata": {
        "id": "BYoPhqHzepTp",
        "colab_type": "code",
        "colab": {},
        "outputId": "e2897075-b524-4941-90ad-998551b10444"
      },
      "source": [
        "if pval<alpha:\n",
        "    print(\"reject null hypothesis\")\n",
        "else:\n",
        "    print(\"do not reject null hypothesis\")"
      ],
      "execution_count": null,
      "outputs": [
        {
          "output_type": "stream",
          "text": [
            "reject null hypothesis\n"
          ],
          "name": "stdout"
        }
      ]
    },
    {
      "cell_type": "code",
      "metadata": {
        "id": "BBgLgkABepTt",
        "colab_type": "code",
        "colab": {}
      },
      "source": [
        "n1 = 120\n",
        "x1bar = 67500\n",
        "s1 = 7200\n",
        "n2 = 45\n",
        "x2bar = 58950\n",
        "s2 = 4600\n",
        "diff = 5000\n",
        "se = m.sqrt((s1**2/n1)+(s2**2/n2))\n",
        "alpha = 0.05"
      ],
      "execution_count": null,
      "outputs": []
    },
    {
      "cell_type": "code",
      "metadata": {
        "id": "6mRQchaCepTy",
        "colab_type": "code",
        "colab": {}
      },
      "source": [
        "res = stests._zstat_generic(x1bar,x2bar, std_diff = se, alternative= 'larger', diff=diff)"
      ],
      "execution_count": null,
      "outputs": []
    },
    {
      "cell_type": "code",
      "metadata": {
        "id": "Frv0laXUepT2",
        "colab_type": "code",
        "colab": {},
        "outputId": "5a3cf420-bc3d-4337-ca90-2c68f1516431"
      },
      "source": [
        "res"
      ],
      "execution_count": null,
      "outputs": [
        {
          "output_type": "execute_result",
          "data": {
            "text/plain": [
              "(3.737417313779651, 9.29601013157504e-05)"
            ]
          },
          "metadata": {
            "tags": []
          },
          "execution_count": 7
        }
      ]
    },
    {
      "cell_type": "markdown",
      "metadata": {
        "id": "5p-aZIrKepT4",
        "colab_type": "text"
      },
      "source": [
        "### Example 2"
      ]
    },
    {
      "cell_type": "code",
      "metadata": {
        "id": "7RFmVKO7epT5",
        "colab_type": "code",
        "colab": {}
      },
      "source": [
        ""
      ],
      "execution_count": null,
      "outputs": []
    },
    {
      "cell_type": "code",
      "metadata": {
        "id": "qWJU_JI5epT8",
        "colab_type": "code",
        "colab": {}
      },
      "source": [
        "#### n1 =50, x1bar = 65, s1 = 10\n",
        "#### n2 = 60, x2bar = 68, s2 = 14\n",
        "#### H0: mu1-mu2 = 0\n",
        "#### H1: mu1-mu2 != 0"
      ],
      "execution_count": null,
      "outputs": []
    },
    {
      "cell_type": "code",
      "metadata": {
        "id": "VuMKUxLTepT-",
        "colab_type": "code",
        "colab": {}
      },
      "source": [
        "alpha = .01\n",
        "data1 = np.random.normal(loc=65, scale=10, size=50)"
      ],
      "execution_count": null,
      "outputs": []
    },
    {
      "cell_type": "code",
      "metadata": {
        "id": "sCeU2_vkepUB",
        "colab_type": "code",
        "colab": {}
      },
      "source": [
        "df1 = pd.DataFrame(data1, columns = ['men'])"
      ],
      "execution_count": null,
      "outputs": []
    },
    {
      "cell_type": "code",
      "metadata": {
        "id": "VRdq_GcLepUG",
        "colab_type": "code",
        "colab": {},
        "outputId": "aae7dd75-4589-4534-f961-c818a1af43f4"
      },
      "source": [
        "df1['men'].mean(),df1['men'].std()"
      ],
      "execution_count": null,
      "outputs": [
        {
          "output_type": "execute_result",
          "data": {
            "text/plain": [
              "(64.39495430454082, 9.911381094197145)"
            ]
          },
          "metadata": {
            "tags": []
          },
          "execution_count": 54
        }
      ]
    },
    {
      "cell_type": "code",
      "metadata": {
        "id": "jpcVWsbVepUK",
        "colab_type": "code",
        "colab": {}
      },
      "source": [
        "data2 = np.random.normal(loc=68, scale=14, size=60)"
      ],
      "execution_count": null,
      "outputs": []
    },
    {
      "cell_type": "code",
      "metadata": {
        "id": "j3J05HooepUQ",
        "colab_type": "code",
        "colab": {}
      },
      "source": [
        "df2 = pd.DataFrame(data2, columns = ['women'])"
      ],
      "execution_count": null,
      "outputs": []
    },
    {
      "cell_type": "code",
      "metadata": {
        "id": "PoOkLCiSepUV",
        "colab_type": "code",
        "colab": {},
        "outputId": "023e57da-8385-448d-906c-7359c1fd5d93"
      },
      "source": [
        "df2['women'].mean(),df2['women'].std()"
      ],
      "execution_count": null,
      "outputs": [
        {
          "output_type": "execute_result",
          "data": {
            "text/plain": [
              "(67.22814380692715, 14.10282660053742)"
            ]
          },
          "metadata": {
            "tags": []
          },
          "execution_count": 39
        }
      ]
    },
    {
      "cell_type": "code",
      "metadata": {
        "id": "HbbucU-bepUa",
        "colab_type": "code",
        "colab": {},
        "outputId": "709f1df3-0c6e-409a-9bf3-836991a716d3"
      },
      "source": [
        "zstatistic ,pval = stests.ztest(df1['men'], df2['women'], value=0,  alternative='two-sided')\n",
        "zstatistic, pval"
      ],
      "execution_count": null,
      "outputs": [
        {
          "output_type": "execute_result",
          "data": {
            "text/plain": [
              "(-1.1953046665188751, 0.2319680172152616)"
            ]
          },
          "metadata": {
            "tags": []
          },
          "execution_count": 55
        }
      ]
    },
    {
      "cell_type": "code",
      "metadata": {
        "id": "tdR7_qK-epUj",
        "colab_type": "code",
        "colab": {},
        "outputId": "67181167-26a5-45ac-fa79-4d3e8d28d6c3"
      },
      "source": [
        "if pval<alpha:\n",
        "    print(\"reject null hypothesis\")\n",
        "else:\n",
        "    print(\"do not reject null hypothesis\")"
      ],
      "execution_count": null,
      "outputs": [
        {
          "output_type": "stream",
          "text": [
            "do not reject null hypothesis\n"
          ],
          "name": "stdout"
        }
      ]
    },
    {
      "cell_type": "code",
      "metadata": {
        "id": "IO7j9rd7epUo",
        "colab_type": "code",
        "colab": {}
      },
      "source": [
        "n1 = 50\n",
        "x1bar = 65\n",
        "s1 = 10\n",
        "n2 = 60\n",
        "x2bar = 68\n",
        "s2 = 14\n",
        "#### H0: mu1-mu2 = 0\n",
        "#### H1: mu1-mu2 != 0"
      ],
      "execution_count": null,
      "outputs": []
    },
    {
      "cell_type": "code",
      "metadata": {
        "id": "5KKW4jt5epUt",
        "colab_type": "code",
        "colab": {}
      },
      "source": [
        "diff = 0\n",
        "se = m.sqrt((s1**2/n1)+(s2**2/n2))\n",
        "alpha = 0.05"
      ],
      "execution_count": null,
      "outputs": []
    },
    {
      "cell_type": "code",
      "metadata": {
        "id": "zDSUlmkkepUy",
        "colab_type": "code",
        "colab": {},
        "outputId": "221b66e0-7f02-4d22-e30c-5c0347b3f69d"
      },
      "source": [
        "stests._zstat_generic(x1bar,x2bar, std_diff = se, alternative= 'two-sided', diff=diff)"
      ],
      "execution_count": null,
      "outputs": [
        {
          "output_type": "execute_result",
          "data": {
            "text/plain": [
              "(-1.3072340109917853, 0.904433376067667)"
            ]
          },
          "metadata": {
            "tags": []
          },
          "execution_count": 46
        }
      ]
    },
    {
      "cell_type": "markdown",
      "metadata": {
        "id": "0uJgpn5GepU1",
        "colab_type": "text"
      },
      "source": [
        "### Z Test for Praportion"
      ]
    },
    {
      "cell_type": "code",
      "metadata": {
        "id": "KVYJfJLbepU1",
        "colab_type": "code",
        "colab": {}
      },
      "source": [
        ""
      ],
      "execution_count": null,
      "outputs": []
    },
    {
      "cell_type": "code",
      "metadata": {
        "id": "Bhv0i4jSepU3",
        "colab_type": "code",
        "colab": {},
        "outputId": "e6d03f2e-54b8-4e05-d813-24937fed4810"
      },
      "source": [
        "import statsmodels.api as sm\n",
        "import numpy as np\n",
        "import matplotlib.pyplot as plt\n",
        "alpha = .05\n",
        "n = 250\n",
        "pnull = 0.12\n",
        "phat = 0.088\n",
        "sm.stats.proportions_ztest(phat*n, n, pnull, alternative='two-sided')"
      ],
      "execution_count": null,
      "outputs": [
        {
          "output_type": "execute_result",
          "data": {
            "text/plain": [
              "(-1.785999065922733, 0.07409940937678348)"
            ]
          },
          "metadata": {
            "tags": []
          },
          "execution_count": 70
        }
      ]
    },
    {
      "cell_type": "markdown",
      "metadata": {
        "id": "wdSIpzImepU6",
        "colab_type": "text"
      },
      "source": [
        "#### A survey claims that 9 out of 10 doctors recommend aspirin for their patients with headaches. To test this claim, a random sample of 100 doctors is obtained. Of these 100 doctors, 82 indicate that they recommend aspirin. Is this claim accurate? Use alpha = 0.05."
      ]
    },
    {
      "cell_type": "code",
      "metadata": {
        "id": "eo5s91v5epU7",
        "colab_type": "code",
        "colab": {}
      },
      "source": [
        "alpha = 0.05\n",
        "n = 100\n",
        "phat = 82/100\n",
        "pnull = 9/10"
      ],
      "execution_count": null,
      "outputs": []
    },
    {
      "cell_type": "code",
      "metadata": {
        "id": "oV04LlWqepU-",
        "colab_type": "code",
        "colab": {},
        "outputId": "6bc9689d-2fe9-4d47-8a02-6baf60f8b9f5"
      },
      "source": [
        "sm.stats.proportions_ztest(phat*n, n, pnull, alternative='two-sided',prop_var=False)"
      ],
      "execution_count": null,
      "outputs": [
        {
          "output_type": "execute_result",
          "data": {
            "text/plain": [
              "(-2.0823168251814157, 0.03731354007356495)"
            ]
          },
          "metadata": {
            "tags": []
          },
          "execution_count": 69
        }
      ]
    },
    {
      "cell_type": "code",
      "metadata": {
        "id": "5h1zD9N5epVB",
        "colab_type": "code",
        "colab": {},
        "outputId": "1939e9b2-b7b5-48c8-ebab-632ad25a4d33"
      },
      "source": [
        "n = 1018\n",
        "pnull = 0.52\n",
        "phat = 0.56\n",
        "sm.stats.proportions_ztest(phat*n, n, pnull, alternative='two-sided')"
      ],
      "execution_count": null,
      "outputs": [
        {
          "output_type": "execute_result",
          "data": {
            "text/plain": [
              "(2.571067795759113, 0.010138547731721065)"
            ]
          },
          "metadata": {
            "tags": []
          },
          "execution_count": 71
        }
      ]
    },
    {
      "cell_type": "code",
      "metadata": {
        "id": "RLVImdWfepVD",
        "colab_type": "code",
        "colab": {},
        "outputId": "da1f5a8c-faac-47da-aa40-0b91a1c1477f"
      },
      "source": [
        "sm.stats.proportions_ztest(.136*3536, 3536, .211, alternative='smaller')"
      ],
      "execution_count": null,
      "outputs": [
        {
          "output_type": "execute_result",
          "data": {
            "text/plain": [
              "(-13.010412496663324, 5.3382108369533335e-39)"
            ]
          },
          "metadata": {
            "tags": []
          },
          "execution_count": 75
        }
      ]
    },
    {
      "cell_type": "markdown",
      "metadata": {
        "id": "dvmAIFtSepVF",
        "colab_type": "text"
      },
      "source": [
        "### T test"
      ]
    },
    {
      "cell_type": "code",
      "metadata": {
        "id": "gWTwAlxFepVF",
        "colab_type": "code",
        "colab": {}
      },
      "source": [
        "import math as m\n",
        "xbar = 130\n",
        "mu = 100\n",
        "sigma = 15\n",
        "n = 25\n",
        "se = sigma/m.sqrt(n)\n",
        "dof = n-1"
      ],
      "execution_count": null,
      "outputs": []
    },
    {
      "cell_type": "markdown",
      "metadata": {
        "id": "PpyORuVDepVH",
        "colab_type": "text"
      },
      "source": [
        "#### H0: mu=100\n",
        "#### H1: mu>100"
      ]
    },
    {
      "cell_type": "code",
      "metadata": {
        "id": "OiOdDu_iepVH",
        "colab_type": "code",
        "colab": {}
      },
      "source": [
        "from statsmodels.stats import weightstats as stests"
      ],
      "execution_count": null,
      "outputs": []
    },
    {
      "cell_type": "code",
      "metadata": {
        "id": "e5wutmwZepVJ",
        "colab_type": "code",
        "colab": {},
        "outputId": "68d0c859-e0a4-46d8-8a59-3609fc67afcd"
      },
      "source": [
        "stests._tstat_generic(xbar, value2 = 0, std_diff = se, dof = dof, alternative = 'larger', diff=100)"
      ],
      "execution_count": null,
      "outputs": [
        {
          "output_type": "execute_result",
          "data": {
            "text/plain": [
              "(10.0, 2.457762763837646e-10)"
            ]
          },
          "metadata": {
            "tags": []
          },
          "execution_count": 11
        }
      ]
    },
    {
      "cell_type": "markdown",
      "metadata": {
        "id": "vWNxx6hoepVN",
        "colab_type": "text"
      },
      "source": [
        "#### t test with dataset"
      ]
    },
    {
      "cell_type": "code",
      "metadata": {
        "id": "z89SPNisepVO",
        "colab_type": "code",
        "colab": {}
      },
      "source": [
        "import numpy as np\n",
        "import pandas as pd"
      ],
      "execution_count": null,
      "outputs": []
    },
    {
      "cell_type": "code",
      "metadata": {
        "id": "ywQFr2KhepVP",
        "colab_type": "code",
        "colab": {},
        "outputId": "806b4a14-e3f0-4978-8ee4-edc104644fe4"
      },
      "source": [
        "data = np.random.normal(loc=130, scale=15, size=25)\n",
        "data.mean(), data.std()"
      ],
      "execution_count": null,
      "outputs": [
        {
          "output_type": "execute_result",
          "data": {
            "text/plain": [
              "(130.37303674309362, 14.140356467986336)"
            ]
          },
          "metadata": {
            "tags": []
          },
          "execution_count": 16
        }
      ]
    },
    {
      "cell_type": "code",
      "metadata": {
        "id": "xbV4jSTGepVS",
        "colab_type": "code",
        "colab": {},
        "outputId": "27f55a43-f81d-41ca-ea5d-db71a7c13689"
      },
      "source": [
        "data = np.random.normal(loc=130, scale=15, size=25)\n",
        "data.mean(), data.std()"
      ],
      "execution_count": null,
      "outputs": [
        {
          "output_type": "execute_result",
          "data": {
            "text/plain": [
              "(130.37303674309362, 14.140356467986336)"
            ]
          },
          "metadata": {
            "tags": []
          },
          "execution_count": 16
        }
      ]
    },
    {
      "cell_type": "code",
      "metadata": {
        "id": "jg3Ff_omepVU",
        "colab_type": "code",
        "colab": {}
      },
      "source": [
        "mu = 100"
      ],
      "execution_count": null,
      "outputs": []
    },
    {
      "cell_type": "code",
      "metadata": {
        "id": "gZIBkPT_epVX",
        "colab_type": "code",
        "colab": {}
      },
      "source": [
        "df = pd.DataFrame(data)"
      ],
      "execution_count": null,
      "outputs": []
    },
    {
      "cell_type": "code",
      "metadata": {
        "id": "_-tjjBs9epVa",
        "colab_type": "code",
        "colab": {},
        "outputId": "c66998cb-5be7-4765-a345-e4dda63a5aca"
      },
      "source": [
        "from scipy import stats\n",
        "help(stats.ttest_1samp)"
      ],
      "execution_count": null,
      "outputs": [
        {
          "output_type": "stream",
          "text": [
            "Help on function ttest_1samp in module scipy.stats.stats:\n",
            "\n",
            "ttest_1samp(a, popmean, axis=0, nan_policy='propagate')\n",
            "    Calculate the T-test for the mean of ONE group of scores.\n",
            "    \n",
            "    This is a two-sided test for the null hypothesis that the expected value\n",
            "    (mean) of a sample of independent observations `a` is equal to the given\n",
            "    population mean, `popmean`.\n",
            "    \n",
            "    Parameters\n",
            "    ----------\n",
            "    a : array_like\n",
            "        sample observation\n",
            "    popmean : float or array_like\n",
            "        expected value in null hypothesis. If array_like, then it must have the\n",
            "        same shape as `a` excluding the axis dimension\n",
            "    axis : int or None, optional\n",
            "        Axis along which to compute test. If None, compute over the whole\n",
            "        array `a`.\n",
            "    nan_policy : {'propagate', 'raise', 'omit'}, optional\n",
            "        Defines how to handle when input contains nan. 'propagate' returns nan,\n",
            "        'raise' throws an error, 'omit' performs the calculations ignoring nan\n",
            "        values. Default is 'propagate'.\n",
            "    \n",
            "    Returns\n",
            "    -------\n",
            "    statistic : float or array\n",
            "        t-statistic\n",
            "    pvalue : float or array\n",
            "        two-tailed p-value\n",
            "    \n",
            "    Examples\n",
            "    --------\n",
            "    >>> from scipy import stats\n",
            "    \n",
            "    >>> np.random.seed(7654567)  # fix seed to get the same result\n",
            "    >>> rvs = stats.norm.rvs(loc=5, scale=10, size=(50,2))\n",
            "    \n",
            "    Test if mean of random sample is equal to true mean, and different mean.\n",
            "    We reject the null hypothesis in the second case and don't reject it in\n",
            "    the first case.\n",
            "    \n",
            "    >>> stats.ttest_1samp(rvs,5.0)\n",
            "    (array([-0.68014479, -0.04323899]), array([ 0.49961383,  0.96568674]))\n",
            "    >>> stats.ttest_1samp(rvs,0.0)\n",
            "    (array([ 2.77025808,  4.11038784]), array([ 0.00789095,  0.00014999]))\n",
            "    \n",
            "    Examples using axis and non-scalar dimension for population mean.\n",
            "    \n",
            "    >>> stats.ttest_1samp(rvs,[5.0,0.0])\n",
            "    (array([-0.68014479,  4.11038784]), array([  4.99613833e-01,   1.49986458e-04]))\n",
            "    >>> stats.ttest_1samp(rvs.T,[5.0,0.0],axis=1)\n",
            "    (array([-0.68014479,  4.11038784]), array([  4.99613833e-01,   1.49986458e-04]))\n",
            "    >>> stats.ttest_1samp(rvs,[[5.0],[0.0]])\n",
            "    (array([[-0.68014479, -0.04323899],\n",
            "           [ 2.77025808,  4.11038784]]), array([[  4.99613833e-01,   9.65686743e-01],\n",
            "           [  7.89094663e-03,   1.49986458e-04]]))\n",
            "\n"
          ],
          "name": "stdout"
        }
      ]
    },
    {
      "cell_type": "code",
      "metadata": {
        "id": "M2LgRBewepVc",
        "colab_type": "code",
        "colab": {}
      },
      "source": [
        "t = stats.ttest_1samp(df,mu)"
      ],
      "execution_count": null,
      "outputs": []
    },
    {
      "cell_type": "code",
      "metadata": {
        "id": "gkhlsJnBepVf",
        "colab_type": "code",
        "colab": {},
        "outputId": "5d7555d3-175d-416d-b6f8-61ad15dd8899"
      },
      "source": [
        "t.statistic, t.pvalue"
      ],
      "execution_count": null,
      "outputs": [
        {
          "output_type": "execute_result",
          "data": {
            "text/plain": [
              "(array([10.52285239]), array([1.8001319e-10]))"
            ]
          },
          "metadata": {
            "tags": []
          },
          "execution_count": 22
        }
      ]
    },
    {
      "cell_type": "code",
      "metadata": {
        "id": "XFTxJx2UepVh",
        "colab_type": "code",
        "colab": {},
        "outputId": "bcdc155b-8d8b-4f29-d693-86f66d66e675"
      },
      "source": [
        "p_value = t.pvalue/2\n",
        "p_value"
      ],
      "execution_count": null,
      "outputs": [
        {
          "output_type": "execute_result",
          "data": {
            "text/plain": [
              "array([9.00065949e-11])"
            ]
          },
          "metadata": {
            "tags": []
          },
          "execution_count": 34
        }
      ]
    },
    {
      "cell_type": "markdown",
      "metadata": {
        "id": "5jnhU716epVj",
        "colab_type": "text"
      },
      "source": [
        "#### two tailed with known variance"
      ]
    },
    {
      "cell_type": "code",
      "metadata": {
        "id": "ZEfgr6zDepVj",
        "colab_type": "code",
        "colab": {}
      },
      "source": [
        "xbar = 14.6\n",
        "mu = 15.4\n",
        "sigma = 2.5\n",
        "n = 35\n",
        "se = sigma/m.sqrt(n)\n",
        "dof = n-1"
      ],
      "execution_count": null,
      "outputs": []
    },
    {
      "cell_type": "markdown",
      "metadata": {
        "id": "acjvughAepVl",
        "colab_type": "text"
      },
      "source": [
        "#### H0: mu = 15.4\n",
        "#### H1: mu != 15.4"
      ]
    },
    {
      "cell_type": "code",
      "metadata": {
        "id": "UMsxjs9BepVl",
        "colab_type": "code",
        "colab": {},
        "outputId": "85cda487-90df-4b19-dd31-820207c4081e"
      },
      "source": [
        "stests._tstat_generic(xbar, value2 = 0, std_diff = se, dof = dof, alternative = 'two-sided', diff=mu)"
      ],
      "execution_count": null,
      "outputs": [
        {
          "output_type": "execute_result",
          "data": {
            "text/plain": [
              "(-1.8931455305918787, 0.0668755205955539)"
            ]
          },
          "metadata": {
            "tags": []
          },
          "execution_count": 15
        }
      ]
    },
    {
      "cell_type": "code",
      "metadata": {
        "id": "-L_wz8YxepVn",
        "colab_type": "code",
        "colab": {},
        "outputId": "0d89f7d9-278b-469e-a5bf-d19d558e548d"
      },
      "source": [
        "data = np.random.normal(loc=14.6, scale=2.5, size=35)\n",
        "data.mean(), data.std()"
      ],
      "execution_count": null,
      "outputs": [
        {
          "output_type": "execute_result",
          "data": {
            "text/plain": [
              "(14.565252815901252, 2.87656695240812)"
            ]
          },
          "metadata": {
            "tags": []
          },
          "execution_count": 67
        }
      ]
    },
    {
      "cell_type": "code",
      "metadata": {
        "id": "py0wWmbeepVr",
        "colab_type": "code",
        "colab": {},
        "outputId": "3ca26fea-57a3-435a-d6eb-3602773f21ba"
      },
      "source": [
        "t = stats.ttest_1samp(data,mu)\n",
        "t.statistic,t.pvalue"
      ],
      "execution_count": null,
      "outputs": [
        {
          "output_type": "execute_result",
          "data": {
            "text/plain": [
              "(-1.6920762684708783, 0.09977811620643903)"
            ]
          },
          "metadata": {
            "tags": []
          },
          "execution_count": 68
        }
      ]
    },
    {
      "cell_type": "markdown",
      "metadata": {
        "id": "HOm5pRB0epVu",
        "colab_type": "text"
      },
      "source": [
        "#### unknown variance"
      ]
    },
    {
      "cell_type": "code",
      "metadata": {
        "id": "biyU7exzepVv",
        "colab_type": "code",
        "colab": {}
      },
      "source": [
        "xbar = 2.1\n",
        "mu = 2\n",
        "s = .3\n",
        "n = 35\n",
        "se = s/m.sqrt(n)\n",
        "dof = n-1"
      ],
      "execution_count": null,
      "outputs": []
    },
    {
      "cell_type": "markdown",
      "metadata": {
        "id": "IgYPo_1gepVy",
        "colab_type": "text"
      },
      "source": [
        "#### H0: mu <= 2\n",
        "#### H1: mu > 2"
      ]
    },
    {
      "cell_type": "code",
      "metadata": {
        "id": "85koP3K_epVy",
        "colab_type": "code",
        "colab": {},
        "outputId": "8c5e8ee0-8e5c-43b2-80a4-930da8f8425a"
      },
      "source": [
        "stests._tstat_generic(xbar, value2 = 0, std_diff = se, dof = dof, alternative = 'larger', diff=mu)"
      ],
      "execution_count": null,
      "outputs": [
        {
          "output_type": "execute_result",
          "data": {
            "text/plain": [
              "(1.9720265943665405, 0.02839294739129017)"
            ]
          },
          "metadata": {
            "tags": []
          },
          "execution_count": 23
        }
      ]
    },
    {
      "cell_type": "code",
      "metadata": {
        "id": "y_DowYtNepV0",
        "colab_type": "code",
        "colab": {},
        "outputId": "9a58b121-23f1-4a2b-ca72-1ca6ad65ebae"
      },
      "source": [
        "data = np.random.normal(loc=2.1, scale=.3, size=35)\n",
        "print(data.mean())\n",
        "print(data.std())\n",
        "t = stats.ttest_1samp(data,2)\n",
        "t.statistic,t.pvalue"
      ],
      "execution_count": null,
      "outputs": [
        {
          "output_type": "stream",
          "text": [
            "2.069005611783233\n",
            "0.21103139439549176\n"
          ],
          "name": "stdout"
        },
        {
          "output_type": "execute_result",
          "data": {
            "text/plain": [
              "(1.906675563297128, 0.06504238203418088)"
            ]
          },
          "metadata": {
            "tags": []
          },
          "execution_count": 72
        }
      ]
    },
    {
      "cell_type": "code",
      "metadata": {
        "id": "fxRQfVXbepV3",
        "colab_type": "code",
        "colab": {},
        "outputId": "7681af22-9164-4239-cc9a-774eed1f768a"
      },
      "source": [
        "t.pvalue/2"
      ],
      "execution_count": null,
      "outputs": [
        {
          "output_type": "execute_result",
          "data": {
            "text/plain": [
              "0.03252119101709044"
            ]
          },
          "metadata": {
            "tags": []
          },
          "execution_count": 73
        }
      ]
    },
    {
      "cell_type": "markdown",
      "metadata": {
        "id": "8RPxiAP3epV5",
        "colab_type": "text"
      },
      "source": [
        "#### paired t test"
      ]
    },
    {
      "cell_type": "code",
      "metadata": {
        "id": "gLu6Ge5_epV5",
        "colab_type": "code",
        "colab": {}
      },
      "source": [
        "D= 14\n",
        "s = 8.5\n",
        "mud = 10\n",
        "n= 50\n",
        "se = s/m.sqrt(n)\n",
        "dof = n-1"
      ],
      "execution_count": null,
      "outputs": []
    },
    {
      "cell_type": "markdown",
      "metadata": {
        "id": "sRkFkiKgepV7",
        "colab_type": "text"
      },
      "source": [
        "#### H0: mud <= 10\n",
        "#### H1: mud > 10"
      ]
    },
    {
      "cell_type": "code",
      "metadata": {
        "id": "gpsYSwvUepV8",
        "colab_type": "code",
        "colab": {},
        "outputId": "5e1fa3e7-cbfb-4895-b01e-703dc9389521"
      },
      "source": [
        "stests._tstat_generic(D, value2 = 0, std_diff = se, dof = dof, alternative = 'larger', diff=mud)"
      ],
      "execution_count": null,
      "outputs": [
        {
          "output_type": "execute_result",
          "data": {
            "text/plain": [
              "(3.327561323230812, 0.0008338908542431838)"
            ]
          },
          "metadata": {
            "tags": []
          },
          "execution_count": 25
        }
      ]
    },
    {
      "cell_type": "markdown",
      "metadata": {
        "id": "tmIOTl4JepV9",
        "colab_type": "text"
      },
      "source": [
        "### Two sample t test equal variance"
      ]
    },
    {
      "cell_type": "code",
      "metadata": {
        "id": "t1Ca9IOKepV-",
        "colab_type": "code",
        "colab": {}
      },
      "source": [
        "x1bar = 7.6\n",
        "x2bar = 6.3\n",
        "s1 = 1.1\n",
        "s2 = 1.3\n",
        "#mu1-mu2 = 1.2\n",
        "mud = 1.2\n",
        "n1 = 80\n",
        "n2 = 80\n",
        "sp2 = (79*1.1**2+79*1.3**2)/(80+80-1)\n",
        "se = m.sqrt(sp2 * (1/n1+1/n2))\n",
        "dof = n1+n2-2"
      ],
      "execution_count": null,
      "outputs": []
    },
    {
      "cell_type": "code",
      "metadata": {
        "id": "qEjoE1fJepV_",
        "colab_type": "code",
        "colab": {},
        "outputId": "9dbd70b6-9f03-4683-a9b1-69151547cc96"
      },
      "source": [
        "m.sqrt(sp2 * (1/n1+1/n2))"
      ],
      "execution_count": null,
      "outputs": [
        {
          "output_type": "execute_result",
          "data": {
            "text/plain": [
              "0.189794658983377"
            ]
          },
          "metadata": {
            "tags": []
          },
          "execution_count": 15
        }
      ]
    },
    {
      "cell_type": "markdown",
      "metadata": {
        "id": "ENfjFCccepWE",
        "colab_type": "text"
      },
      "source": [
        "#### H0: mu1-mu2 <= 1.2\n",
        "#### H1: mu1-mu2 > 1.2"
      ]
    },
    {
      "cell_type": "code",
      "metadata": {
        "id": "wneM4rHnepWE",
        "colab_type": "code",
        "colab": {},
        "outputId": "8c2f4a6b-bcdb-4080-82fd-2e532f81abe0"
      },
      "source": [
        "stests._tstat_generic(value1 = x1bar, value2 = x2bar, std_diff = se, dof = dof, alternative = 'larger', diff=mud)"
      ],
      "execution_count": null,
      "outputs": [
        {
          "output_type": "execute_result",
          "data": {
            "text/plain": [
              "(0.5268852165579553, 0.29950612651399644)"
            ]
          },
          "metadata": {
            "tags": []
          },
          "execution_count": 29
        }
      ]
    },
    {
      "cell_type": "code",
      "metadata": {
        "id": "rFAlp0UhepWG",
        "colab_type": "code",
        "colab": {},
        "outputId": "00b0d067-21ee-4c68-9e56-d08ab11f8b6e"
      },
      "source": [
        "help(stats.ttest_ind)"
      ],
      "execution_count": null,
      "outputs": [
        {
          "output_type": "stream",
          "text": [
            "Help on function ttest_ind in module scipy.stats.stats:\n",
            "\n",
            "ttest_ind(a, b, axis=0, equal_var=True, nan_policy='propagate')\n",
            "    Calculate the T-test for the means of *two independent* samples of scores.\n",
            "    \n",
            "    This is a two-sided test for the null hypothesis that 2 independent samples\n",
            "    have identical average (expected) values. This test assumes that the\n",
            "    populations have identical variances by default.\n",
            "    \n",
            "    Parameters\n",
            "    ----------\n",
            "    a, b : array_like\n",
            "        The arrays must have the same shape, except in the dimension\n",
            "        corresponding to `axis` (the first, by default).\n",
            "    axis : int or None, optional\n",
            "        Axis along which to compute test. If None, compute over the whole\n",
            "        arrays, `a`, and `b`.\n",
            "    equal_var : bool, optional\n",
            "        If True (default), perform a standard independent 2 sample test\n",
            "        that assumes equal population variances [1]_.\n",
            "        If False, perform Welch's t-test, which does not assume equal\n",
            "        population variance [2]_.\n",
            "    \n",
            "        .. versionadded:: 0.11.0\n",
            "    nan_policy : {'propagate', 'raise', 'omit'}, optional\n",
            "        Defines how to handle when input contains nan. 'propagate' returns nan,\n",
            "        'raise' throws an error, 'omit' performs the calculations ignoring nan\n",
            "        values. Default is 'propagate'.\n",
            "    \n",
            "    \n",
            "    Returns\n",
            "    -------\n",
            "    statistic : float or array\n",
            "        The calculated t-statistic.\n",
            "    pvalue : float or array\n",
            "        The two-tailed p-value.\n",
            "    \n",
            "    Notes\n",
            "    -----\n",
            "    We can use this test, if we observe two independent samples from\n",
            "    the same or different population, e.g. exam scores of boys and\n",
            "    girls or of two ethnic groups. The test measures whether the\n",
            "    average (expected) value differs significantly across samples. If\n",
            "    we observe a large p-value, for example larger than 0.05 or 0.1,\n",
            "    then we cannot reject the null hypothesis of identical average scores.\n",
            "    If the p-value is smaller than the threshold, e.g. 1%, 5% or 10%,\n",
            "    then we reject the null hypothesis of equal averages.\n",
            "    \n",
            "    References\n",
            "    ----------\n",
            "    .. [1] https://en.wikipedia.org/wiki/T-test#Independent_two-sample_t-test\n",
            "    \n",
            "    .. [2] https://en.wikipedia.org/wiki/Welch%27s_t-test\n",
            "    \n",
            "    Examples\n",
            "    --------\n",
            "    >>> from scipy import stats\n",
            "    >>> np.random.seed(12345678)\n",
            "    \n",
            "    Test with sample with identical means:\n",
            "    \n",
            "    >>> rvs1 = stats.norm.rvs(loc=5,scale=10,size=500)\n",
            "    >>> rvs2 = stats.norm.rvs(loc=5,scale=10,size=500)\n",
            "    >>> stats.ttest_ind(rvs1,rvs2)\n",
            "    (0.26833823296239279, 0.78849443369564776)\n",
            "    >>> stats.ttest_ind(rvs1,rvs2, equal_var = False)\n",
            "    (0.26833823296239279, 0.78849452749500748)\n",
            "    \n",
            "    `ttest_ind` underestimates p for unequal variances:\n",
            "    \n",
            "    >>> rvs3 = stats.norm.rvs(loc=5, scale=20, size=500)\n",
            "    >>> stats.ttest_ind(rvs1, rvs3)\n",
            "    (-0.46580283298287162, 0.64145827413436174)\n",
            "    >>> stats.ttest_ind(rvs1, rvs3, equal_var = False)\n",
            "    (-0.46580283298287162, 0.64149646246569292)\n",
            "    \n",
            "    When n1 != n2, the equal variance t-statistic is no longer equal to the\n",
            "    unequal variance t-statistic:\n",
            "    \n",
            "    >>> rvs4 = stats.norm.rvs(loc=5, scale=20, size=100)\n",
            "    >>> stats.ttest_ind(rvs1, rvs4)\n",
            "    (-0.99882539442782481, 0.3182832709103896)\n",
            "    >>> stats.ttest_ind(rvs1, rvs4, equal_var = False)\n",
            "    (-0.69712570584654099, 0.48716927725402048)\n",
            "    \n",
            "    T-test with different means, variance, and n:\n",
            "    \n",
            "    >>> rvs5 = stats.norm.rvs(loc=8, scale=20, size=100)\n",
            "    >>> stats.ttest_ind(rvs1, rvs5)\n",
            "    (-1.4679669854490653, 0.14263895620529152)\n",
            "    >>> stats.ttest_ind(rvs1, rvs5, equal_var = False)\n",
            "    (-0.94365973617132992, 0.34744170334794122)\n",
            "\n"
          ],
          "name": "stdout"
        }
      ]
    },
    {
      "cell_type": "markdown",
      "metadata": {
        "id": "s4J3aUKtepWJ",
        "colab_type": "text"
      },
      "source": [
        "### Two sample t test unequal variance"
      ]
    },
    {
      "cell_type": "code",
      "metadata": {
        "id": "q-mRV2qZepWJ",
        "colab_type": "code",
        "colab": {}
      },
      "source": [
        "x1bar = 10.1\n",
        "x2bar = 9.5\n",
        "s1 = 2.4\n",
        "s2 = 3.1\n",
        "#mu1-mu2 = 1.2\n",
        "mud = 0\n",
        "n1 = 120\n",
        "n2 = 100\n",
        "su = m.sqrt(2.4**2/120+3.1**2/100)\n",
        "se = su\n",
        "dof = m.floor((su**4)/(((2.4**2/120)**2/(n1-1))+((3.1**2/100)**2/(n2-1))))"
      ],
      "execution_count": null,
      "outputs": []
    },
    {
      "cell_type": "code",
      "metadata": {
        "id": "Ddft1kI3epWM",
        "colab_type": "code",
        "colab": {},
        "outputId": "01a0c4c3-aacf-4192-a60b-d887c384cda0"
      },
      "source": [
        "dof"
      ],
      "execution_count": null,
      "outputs": [
        {
          "output_type": "execute_result",
          "data": {
            "text/plain": [
              "184"
            ]
          },
          "metadata": {
            "tags": []
          },
          "execution_count": 48
        }
      ]
    },
    {
      "cell_type": "code",
      "metadata": {
        "id": "Jzd_-yDVepWR",
        "colab_type": "code",
        "colab": {}
      },
      "source": [
        "#### H0: mud <= 0\n",
        "#### H1: mud > 0"
      ],
      "execution_count": null,
      "outputs": []
    },
    {
      "cell_type": "code",
      "metadata": {
        "id": "Ab3DnkopepWU",
        "colab_type": "code",
        "colab": {},
        "outputId": "e6a69cd6-1439-4043-c046-2bfd881e06d0"
      },
      "source": [
        "stests._tstat_generic(value1 = x1bar, value2 = x2bar, std_diff = se, dof = dof, alternative = 'larger', diff=mud)"
      ],
      "execution_count": null,
      "outputs": [
        {
          "output_type": "execute_result",
          "data": {
            "text/plain": [
              "(1.5805901093214958, 0.05784463166631994)"
            ]
          },
          "metadata": {
            "tags": []
          },
          "execution_count": 49
        }
      ]
    },
    {
      "cell_type": "markdown",
      "metadata": {
        "id": "uvQWn076epWW",
        "colab_type": "text"
      },
      "source": [
        "#### Shapiro test for normality"
      ]
    },
    {
      "cell_type": "markdown",
      "metadata": {
        "id": "rIfqGmcgepWX",
        "colab_type": "text"
      },
      "source": [
        "The Shapiro-Wilk test tests the null hypothesis that the data was drawn from a normal distribution."
      ]
    },
    {
      "cell_type": "code",
      "metadata": {
        "id": "ekyXJAXBepWX",
        "colab_type": "code",
        "colab": {}
      },
      "source": [
        "import numpy as np\n",
        "s = np.random.normal(0, 20, 1000)"
      ],
      "execution_count": null,
      "outputs": []
    },
    {
      "cell_type": "code",
      "metadata": {
        "id": "jneGp3fwepWZ",
        "colab_type": "code",
        "colab": {},
        "outputId": "921844c7-857f-48ac-bc05-13ef4186f888"
      },
      "source": [
        "import matplotlib.pyplot as plt\n",
        "plt.hist(s)\n",
        "plt.show()"
      ],
      "execution_count": null,
      "outputs": [
        {
          "output_type": "display_data",
          "data": {
            "image/png": "[encoded data removed]",
            "text/plain": [
              "<Figure size 432x288 with 1 Axes>"
            ]
          },
          "metadata": {
            "tags": [],
            "needs_background": "light"
          }
        }
      ]
    },
    {
      "cell_type": "code",
      "metadata": {
        "id": "M4zQwTwWepWb",
        "colab_type": "code",
        "colab": {},
        "outputId": "3ee31930-903b-46dc-a913-be8b6ab5ad46"
      },
      "source": [
        "from scipy import stats\n",
        "result = stats.shapiro(s)\n",
        "result"
      ],
      "execution_count": null,
      "outputs": [
        {
          "output_type": "execute_result",
          "data": {
            "text/plain": [
              "(0.998559296131134, 0.5937654376029968)"
            ]
          },
          "metadata": {
            "tags": []
          },
          "execution_count": 141
        }
      ]
    },
    {
      "cell_type": "code",
      "metadata": {
        "id": "jaTIthF9epWc",
        "colab_type": "code",
        "colab": {},
        "outputId": "c0248970-8958-4007-e97a-5749bda23fab"
      },
      "source": [
        "p_value = result[1]\n",
        "p_value"
      ],
      "execution_count": null,
      "outputs": [
        {
          "output_type": "execute_result",
          "data": {
            "text/plain": [
              "0.5937654376029968"
            ]
          },
          "metadata": {
            "tags": []
          },
          "execution_count": 142
        }
      ]
    },
    {
      "cell_type": "code",
      "metadata": {
        "id": "AlSc6YnfepWe",
        "colab_type": "code",
        "colab": {},
        "outputId": "b4656ad3-de33-4814-f7e9-54cd44f3648f"
      },
      "source": [
        "if(p_value > .05):\n",
        "    print(\"data is from normal distribution\")\n",
        "else:\n",
        "    print(\"not from normal distribution\")"
      ],
      "execution_count": null,
      "outputs": [
        {
          "output_type": "stream",
          "text": [
            "data is from normal distribution\n"
          ],
          "name": "stdout"
        }
      ]
    },
    {
      "cell_type": "code",
      "metadata": {
        "id": "30eQiP5hepWg",
        "colab_type": "code",
        "colab": {}
      },
      "source": [
        "s = np.random.uniform(0, 20, 1000)"
      ],
      "execution_count": null,
      "outputs": []
    },
    {
      "cell_type": "code",
      "metadata": {
        "id": "P3A5yIKbepWh",
        "colab_type": "code",
        "colab": {},
        "outputId": "44f28620-8300-4406-ade1-0a470d705d8d"
      },
      "source": [
        "import matplotlib.pyplot as plt\n",
        "plt.hist(s)\n",
        "plt.show()"
      ],
      "execution_count": null,
      "outputs": [
        {
          "output_type": "display_data",
          "data": {
            "image/png": "[encoded data removed]",
            "text/plain": [
              "<Figure size 432x288 with 1 Axes>"
            ]
          },
          "metadata": {
            "tags": [],
            "needs_background": "light"
          }
        }
      ]
    },
    {
      "cell_type": "code",
      "metadata": {
        "id": "M82_YHhoepWj",
        "colab_type": "code",
        "colab": {},
        "outputId": "4e68f030-ce12-4db6-e94c-e93f21abf712"
      },
      "source": [
        "result = stats.shapiro(s)\n",
        "result"
      ],
      "execution_count": null,
      "outputs": [
        {
          "output_type": "execute_result",
          "data": {
            "text/plain": [
              "(0.9589013457298279, 3.789051805891771e-16)"
            ]
          },
          "metadata": {
            "tags": []
          },
          "execution_count": 137
        }
      ]
    },
    {
      "cell_type": "code",
      "metadata": {
        "id": "-7G4r8QoepWk",
        "colab_type": "code",
        "colab": {},
        "outputId": "e38cd188-3e5d-44dc-ff2d-48d55d589d4e"
      },
      "source": [
        "if(result[1] > .05):\n",
        "    print(\"data is from normal distribution\")\n",
        "else:\n",
        "    print(\"not from normal distribution\")"
      ],
      "execution_count": null,
      "outputs": [
        {
          "output_type": "stream",
          "text": [
            "not from normal distribution\n"
          ],
          "name": "stdout"
        }
      ]
    },
    {
      "cell_type": "code",
      "metadata": {
        "id": "ey3tN5C2epWm",
        "colab_type": "code",
        "colab": {}
      },
      "source": [
        "import pandas as pd\n",
        "df = pd.read_csv(\"brakesXL.csv\")"
      ],
      "execution_count": null,
      "outputs": []
    },
    {
      "cell_type": "code",
      "metadata": {
        "id": "0l2n1epcepWp",
        "colab_type": "code",
        "colab": {},
        "outputId": "2571f85d-3802-438c-fa4f-5c95bde0ea24"
      },
      "source": [
        "df"
      ],
      "execution_count": null,
      "outputs": [
        {
          "output_type": "execute_result",
          "data": {
            "text/html": [
              "<div>\n",
              "<style scoped>\n",
              "    .dataframe tbody tr th:only-of-type {\n",
              "        vertical-align: middle;\n",
              "    }\n",
              "\n",
              "    .dataframe tbody tr th {\n",
              "        vertical-align: top;\n",
              "    }\n",
              "\n",
              "    .dataframe thead th {\n",
              "        text-align: right;\n",
              "    }\n",
              "</style>\n",
              "<table border=\"1\" class=\"dataframe\">\n",
              "  <thead>\n",
              "    <tr style=\"text-align: right;\">\n",
              "      <th></th>\n",
              "      <th>Machine</th>\n",
              "      <th>Brake</th>\n",
              "    </tr>\n",
              "  </thead>\n",
              "  <tbody>\n",
              "    <tr>\n",
              "      <td>0</td>\n",
              "      <td>1</td>\n",
              "      <td>322.0003</td>\n",
              "    </tr>\n",
              "    <tr>\n",
              "      <td>1</td>\n",
              "      <td>1</td>\n",
              "      <td>322.0048</td>\n",
              "    </tr>\n",
              "    <tr>\n",
              "      <td>2</td>\n",
              "      <td>1</td>\n",
              "      <td>322.0215</td>\n",
              "    </tr>\n",
              "    <tr>\n",
              "      <td>3</td>\n",
              "      <td>1</td>\n",
              "      <td>321.9907</td>\n",
              "    </tr>\n",
              "    <tr>\n",
              "      <td>4</td>\n",
              "      <td>1</td>\n",
              "      <td>322.0109</td>\n",
              "    </tr>\n",
              "    <tr>\n",
              "      <td>...</td>\n",
              "      <td>...</td>\n",
              "      <td>...</td>\n",
              "    </tr>\n",
              "    <tr>\n",
              "      <td>123</td>\n",
              "      <td>8</td>\n",
              "      <td>322.0038</td>\n",
              "    </tr>\n",
              "    <tr>\n",
              "      <td>124</td>\n",
              "      <td>8</td>\n",
              "      <td>322.0035</td>\n",
              "    </tr>\n",
              "    <tr>\n",
              "      <td>125</td>\n",
              "      <td>8</td>\n",
              "      <td>321.9803</td>\n",
              "    </tr>\n",
              "    <tr>\n",
              "      <td>126</td>\n",
              "      <td>8</td>\n",
              "      <td>321.9942</td>\n",
              "    </tr>\n",
              "    <tr>\n",
              "      <td>127</td>\n",
              "      <td>8</td>\n",
              "      <td>321.9969</td>\n",
              "    </tr>\n",
              "  </tbody>\n",
              "</table>\n",
              "<p>128 rows × 2 columns</p>\n",
              "</div>"
            ],
            "text/plain": [
              "     Machine     Brake\n",
              "0          1  322.0003\n",
              "1          1  322.0048\n",
              "2          1  322.0215\n",
              "3          1  321.9907\n",
              "4          1  322.0109\n",
              "..       ...       ...\n",
              "123        8  322.0038\n",
              "124        8  322.0035\n",
              "125        8  321.9803\n",
              "126        8  321.9942\n",
              "127        8  321.9969\n",
              "\n",
              "[128 rows x 2 columns]"
            ]
          },
          "metadata": {
            "tags": []
          },
          "execution_count": 155
        }
      ]
    },
    {
      "cell_type": "code",
      "metadata": {
        "id": "nzCRCrNRepWr",
        "colab_type": "code",
        "colab": {},
        "outputId": "79660038-c525-40d6-d29d-657f1ce0af62"
      },
      "source": [
        "result = stats.shapiro(df['Brake'])\n",
        "result"
      ],
      "execution_count": null,
      "outputs": [
        {
          "output_type": "execute_result",
          "data": {
            "text/plain": [
              "(0.9929972887039185, 0.7777344584465027)"
            ]
          },
          "metadata": {
            "tags": []
          },
          "execution_count": 148
        }
      ]
    },
    {
      "cell_type": "code",
      "metadata": {
        "id": "PJhzoIZbepWs",
        "colab_type": "code",
        "colab": {},
        "outputId": "908198df-6279-40e3-da7c-46e1ac554614"
      },
      "source": [
        "if(result[1] > .05):\n",
        "    print(\"data is from normal distribution\")\n",
        "else:\n",
        "    print(\"not from normal distribution\")"
      ],
      "execution_count": null,
      "outputs": [
        {
          "output_type": "stream",
          "text": [
            "data is from normal distribution\n"
          ],
          "name": "stdout"
        }
      ]
    },
    {
      "cell_type": "markdown",
      "metadata": {
        "id": "ESP7hAsKepWw",
        "colab_type": "text"
      },
      "source": [
        "#### H0: mu = 322\n",
        "#### H1: mu != 322"
      ]
    },
    {
      "cell_type": "code",
      "metadata": {
        "id": "epk0BgW6epWx",
        "colab_type": "code",
        "colab": {},
        "outputId": "e9f37d6a-494e-41be-b744-24b37951fb20"
      },
      "source": [
        "t = stats.ttest_1samp(df['Brake'],322)\n",
        "t.statistic, t.pvalue"
      ],
      "execution_count": null,
      "outputs": [
        {
          "output_type": "execute_result",
          "data": {
            "text/plain": [
              "(2.0986260940265966, 0.03783061703254818)"
            ]
          },
          "metadata": {
            "tags": []
          },
          "execution_count": 151
        }
      ]
    },
    {
      "cell_type": "code",
      "metadata": {
        "id": "WPvmYS9GepWz",
        "colab_type": "code",
        "colab": {},
        "outputId": "6bfd05d1-a6f1-4fd7-f164-a222d3271c9c"
      },
      "source": [
        "if(t.pvalue>.05):\n",
        "    print(\"can't reject null hypothesis\")\n",
        "else:\n",
        "    print(\"reject null hypothesis\")"
      ],
      "execution_count": null,
      "outputs": [
        {
          "output_type": "stream",
          "text": [
            "reject null hypothesis\n"
          ],
          "name": "stdout"
        }
      ]
    },
    {
      "cell_type": "code",
      "metadata": {
        "id": "RQaGfLx8epW1",
        "colab_type": "code",
        "colab": {},
        "outputId": "44290b8e-fe3f-48e1-b7b5-3bec28ae9545"
      },
      "source": [
        "help(stats.ttest_ind)"
      ],
      "execution_count": null,
      "outputs": [
        {
          "output_type": "stream",
          "text": [
            "Help on function ttest_ind in module scipy.stats.stats:\n",
            "\n",
            "ttest_ind(a, b, axis=0, equal_var=True, nan_policy='propagate')\n",
            "    Calculate the T-test for the means of *two independent* samples of scores.\n",
            "    \n",
            "    This is a two-sided test for the null hypothesis that 2 independent samples\n",
            "    have identical average (expected) values. This test assumes that the\n",
            "    populations have identical variances by default.\n",
            "    \n",
            "    Parameters\n",
            "    ----------\n",
            "    a, b : array_like\n",
            "        The arrays must have the same shape, except in the dimension\n",
            "        corresponding to `axis` (the first, by default).\n",
            "    axis : int or None, optional\n",
            "        Axis along which to compute test. If None, compute over the whole\n",
            "        arrays, `a`, and `b`.\n",
            "    equal_var : bool, optional\n",
            "        If True (default), perform a standard independent 2 sample test\n",
            "        that assumes equal population variances [1]_.\n",
            "        If False, perform Welch's t-test, which does not assume equal\n",
            "        population variance [2]_.\n",
            "    \n",
            "        .. versionadded:: 0.11.0\n",
            "    nan_policy : {'propagate', 'raise', 'omit'}, optional\n",
            "        Defines how to handle when input contains nan. 'propagate' returns nan,\n",
            "        'raise' throws an error, 'omit' performs the calculations ignoring nan\n",
            "        values. Default is 'propagate'.\n",
            "    \n",
            "    \n",
            "    Returns\n",
            "    -------\n",
            "    statistic : float or array\n",
            "        The calculated t-statistic.\n",
            "    pvalue : float or array\n",
            "        The two-tailed p-value.\n",
            "    \n",
            "    Notes\n",
            "    -----\n",
            "    We can use this test, if we observe two independent samples from\n",
            "    the same or different population, e.g. exam scores of boys and\n",
            "    girls or of two ethnic groups. The test measures whether the\n",
            "    average (expected) value differs significantly across samples. If\n",
            "    we observe a large p-value, for example larger than 0.05 or 0.1,\n",
            "    then we cannot reject the null hypothesis of identical average scores.\n",
            "    If the p-value is smaller than the threshold, e.g. 1%, 5% or 10%,\n",
            "    then we reject the null hypothesis of equal averages.\n",
            "    \n",
            "    References\n",
            "    ----------\n",
            "    .. [1] https://en.wikipedia.org/wiki/T-test#Independent_two-sample_t-test\n",
            "    \n",
            "    .. [2] https://en.wikipedia.org/wiki/Welch%27s_t-test\n",
            "    \n",
            "    Examples\n",
            "    --------\n",
            "    >>> from scipy import stats\n",
            "    >>> np.random.seed(12345678)\n",
            "    \n",
            "    Test with sample with identical means:\n",
            "    \n",
            "    >>> rvs1 = stats.norm.rvs(loc=5,scale=10,size=500)\n",
            "    >>> rvs2 = stats.norm.rvs(loc=5,scale=10,size=500)\n",
            "    >>> stats.ttest_ind(rvs1,rvs2)\n",
            "    (0.26833823296239279, 0.78849443369564776)\n",
            "    >>> stats.ttest_ind(rvs1,rvs2, equal_var = False)\n",
            "    (0.26833823296239279, 0.78849452749500748)\n",
            "    \n",
            "    `ttest_ind` underestimates p for unequal variances:\n",
            "    \n",
            "    >>> rvs3 = stats.norm.rvs(loc=5, scale=20, size=500)\n",
            "    >>> stats.ttest_ind(rvs1, rvs3)\n",
            "    (-0.46580283298287162, 0.64145827413436174)\n",
            "    >>> stats.ttest_ind(rvs1, rvs3, equal_var = False)\n",
            "    (-0.46580283298287162, 0.64149646246569292)\n",
            "    \n",
            "    When n1 != n2, the equal variance t-statistic is no longer equal to the\n",
            "    unequal variance t-statistic:\n",
            "    \n",
            "    >>> rvs4 = stats.norm.rvs(loc=5, scale=20, size=100)\n",
            "    >>> stats.ttest_ind(rvs1, rvs4)\n",
            "    (-0.99882539442782481, 0.3182832709103896)\n",
            "    >>> stats.ttest_ind(rvs1, rvs4, equal_var = False)\n",
            "    (-0.69712570584654099, 0.48716927725402048)\n",
            "    \n",
            "    T-test with different means, variance, and n:\n",
            "    \n",
            "    >>> rvs5 = stats.norm.rvs(loc=8, scale=20, size=100)\n",
            "    >>> stats.ttest_ind(rvs1, rvs5)\n",
            "    (-1.4679669854490653, 0.14263895620529152)\n",
            "    >>> stats.ttest_ind(rvs1, rvs5, equal_var = False)\n",
            "    (-0.94365973617132992, 0.34744170334794122)\n",
            "\n"
          ],
          "name": "stdout"
        }
      ]
    },
    {
      "cell_type": "markdown",
      "metadata": {
        "id": "zOwEBsT1epW3",
        "colab_type": "text"
      },
      "source": [
        "<b>Furnace Data.</b>\n",
        "\n",
        "Wisconsin Power and Light studied the effectiveness of two devices for\n",
        "improving the efficiency of gas home-heating systems.  The electric vent\n",
        "damper (EVD) reduces heat loss through the chimney when the furnace\n",
        "is in its off cycle by closing off the vent.  It is controlled electrically.\n",
        "The thermally activated vent damper (TVD) is the same as the EVD except\n",
        "it is controlled by the thermal properties of a set of bimetal fins set in\n",
        "the vent.  Ninety test houses were used, 40 with TVD's and 50 with EVD's.\n",
        "For each house, energy consumption was measured for a period of several\n",
        "weeks with the vent damper active and for a period with the vent damper \n",
        "not active.  This should help show how effective the vent damper is in \n",
        "each house.\n",
        "\n",
        "Both overall weather conditions and the size of a house can greatly\n",
        "affect energy consumption.  A simple formula was used to try to adjust\n",
        "for this.  Average energy consumed by the house during one period was\n",
        "recorded as (consumption)/[(weather)(house area)], where consumption\n",
        "is total energy consumption for the period, measured in BTU's, weather\n",
        "is measured in number of degree days, and house area is measured in \n",
        "square feet.  In addition, various characteristics of the house, chimney,\n",
        "and furnace were recorded for each house.  A few observations were\n",
        "missing and recorded as dots.\n",
        "\n",
        "--------------------------------------------------------------------------\n",
        "Description of Furnace Data:\n",
        "\n",
        "    VARIABLE   \n",
        "\n",
        "1.  TYPE        Type of furnace: 1=forced air, 2=gravity, 3=forced water\n",
        "2.  CH.AREA     Chimney area\n",
        "3.  CH.SHAPE    Chimney shape: 1=round, 2=square, 3=rectangular\n",
        "4.  CH.HT       Chimney height (in feet)\n",
        "5.  CH.LINER    Type of chimney liner: 0=unlined, 1=tile, 2=metal\n",
        "6.  HOUSE       Type of house: 1=ranch, 2=two-story, 3=tri-level, 4=bi-level,\n",
        "                5=one and a half stories\n",
        "7.  AGE         House age in years (99 means 99 or more years)\n",
        "8.  BTU.IN      Average energy consumption with vent damper in\n",
        "9.  BTU.OUT     Average energy consumption with vent damper out\n",
        "10. DAMPER      Type of damper: 1=EVD, 2=TVD"
      ]
    },
    {
      "cell_type": "markdown",
      "metadata": {
        "id": "h80DEM9QepW4",
        "colab_type": "text"
      },
      "source": [
        "#### Bartlett’s test"
      ]
    },
    {
      "cell_type": "markdown",
      "metadata": {
        "id": "dch2qGOOepW4",
        "colab_type": "text"
      },
      "source": [
        "Bartlett’s test for homogeneity of variances is used to test that variances are equal for all samples."
      ]
    },
    {
      "cell_type": "code",
      "metadata": {
        "id": "5oxUab6depW4",
        "colab_type": "code",
        "colab": {},
        "outputId": "70127b1a-d42c-4954-9d7c-449ce32b751a"
      },
      "source": [
        "from scipy import stats\n",
        "stats.bartlett([1,2,3,4,5], [3,40,80])"
      ],
      "execution_count": null,
      "outputs": [
        {
          "output_type": "execute_result",
          "data": {
            "text/plain": [
              "BartlettResult(statistic=15.882402933692443, pvalue=6.740251381770005e-05)"
            ]
          },
          "metadata": {
            "tags": []
          },
          "execution_count": 1
        }
      ]
    },
    {
      "cell_type": "code",
      "metadata": {
        "id": "lEaEFUJaepW5",
        "colab_type": "code",
        "colab": {},
        "outputId": "0f852d60-e3a5-48a3-eae3-57e255fb6584"
      },
      "source": [
        "df = pd.read_csv(\"FurnaceXL.csv\")\n",
        "df"
      ],
      "execution_count": null,
      "outputs": [
        {
          "output_type": "execute_result",
          "data": {
            "text/html": [
              "<div>\n",
              "<style scoped>\n",
              "    .dataframe tbody tr th:only-of-type {\n",
              "        vertical-align: middle;\n",
              "    }\n",
              "\n",
              "    .dataframe tbody tr th {\n",
              "        vertical-align: top;\n",
              "    }\n",
              "\n",
              "    .dataframe thead th {\n",
              "        text-align: right;\n",
              "    }\n",
              "</style>\n",
              "<table border=\"1\" class=\"dataframe\">\n",
              "  <thead>\n",
              "    <tr style=\"text-align: right;\">\n",
              "      <th></th>\n",
              "      <th>Type</th>\n",
              "      <th>CH.Area</th>\n",
              "      <th>CH.Shape</th>\n",
              "      <th>CH.HT</th>\n",
              "      <th>CH.Liner</th>\n",
              "      <th>House</th>\n",
              "      <th>Age</th>\n",
              "      <th>BTU.In</th>\n",
              "      <th>BTU.Out</th>\n",
              "      <th>Damper</th>\n",
              "    </tr>\n",
              "  </thead>\n",
              "  <tbody>\n",
              "    <tr>\n",
              "      <td>0</td>\n",
              "      <td>1</td>\n",
              "      <td>28</td>\n",
              "      <td>1</td>\n",
              "      <td>20</td>\n",
              "      <td>2</td>\n",
              "      <td>3</td>\n",
              "      <td>8</td>\n",
              "      <td>7.87</td>\n",
              "      <td>8.25</td>\n",
              "      <td>1</td>\n",
              "    </tr>\n",
              "    <tr>\n",
              "      <td>1</td>\n",
              "      <td>2</td>\n",
              "      <td>144</td>\n",
              "      <td>2</td>\n",
              "      <td>26</td>\n",
              "      <td>0</td>\n",
              "      <td>2</td>\n",
              "      <td>75</td>\n",
              "      <td>9.43</td>\n",
              "      <td>9.66</td>\n",
              "      <td>1</td>\n",
              "    </tr>\n",
              "    <tr>\n",
              "      <td>2</td>\n",
              "      <td>1</td>\n",
              "      <td>80</td>\n",
              "      <td>3</td>\n",
              "      <td>30</td>\n",
              "      <td>1</td>\n",
              "      <td>2</td>\n",
              "      <td>44</td>\n",
              "      <td>7.16</td>\n",
              "      <td>8.33</td>\n",
              "      <td>1</td>\n",
              "    </tr>\n",
              "    <tr>\n",
              "      <td>3</td>\n",
              "      <td>2</td>\n",
              "      <td>100</td>\n",
              "      <td>2</td>\n",
              "      <td>24</td>\n",
              "      <td>0</td>\n",
              "      <td>2</td>\n",
              "      <td>75</td>\n",
              "      <td>8.67</td>\n",
              "      <td>8.82</td>\n",
              "      <td>1</td>\n",
              "    </tr>\n",
              "    <tr>\n",
              "      <td>4</td>\n",
              "      <td>3</td>\n",
              "      <td>168</td>\n",
              "      <td>3</td>\n",
              "      <td>35</td>\n",
              "      <td>1</td>\n",
              "      <td>2</td>\n",
              "      <td>30</td>\n",
              "      <td>12.31</td>\n",
              "      <td>12.06</td>\n",
              "      <td>1</td>\n",
              "    </tr>\n",
              "    <tr>\n",
              "      <td>...</td>\n",
              "      <td>...</td>\n",
              "      <td>...</td>\n",
              "      <td>...</td>\n",
              "      <td>...</td>\n",
              "      <td>...</td>\n",
              "      <td>...</td>\n",
              "      <td>...</td>\n",
              "      <td>...</td>\n",
              "      <td>...</td>\n",
              "      <td>...</td>\n",
              "    </tr>\n",
              "    <tr>\n",
              "      <td>85</td>\n",
              "      <td>2</td>\n",
              "      <td>100</td>\n",
              "      <td>2</td>\n",
              "      <td>24</td>\n",
              "      <td>0</td>\n",
              "      <td>2</td>\n",
              "      <td>70</td>\n",
              "      <td>14.35</td>\n",
              "      <td>15.26</td>\n",
              "      <td>2</td>\n",
              "    </tr>\n",
              "    <tr>\n",
              "      <td>86</td>\n",
              "      <td>2</td>\n",
              "      <td>96</td>\n",
              "      <td>1</td>\n",
              "      <td>17</td>\n",
              "      <td>0</td>\n",
              "      <td>1</td>\n",
              "      <td>40</td>\n",
              "      <td>13.42</td>\n",
              "      <td>14.53</td>\n",
              "      <td>2</td>\n",
              "    </tr>\n",
              "    <tr>\n",
              "      <td>87</td>\n",
              "      <td>1</td>\n",
              "      <td>100</td>\n",
              "      <td>2</td>\n",
              "      <td>20</td>\n",
              "      <td>1</td>\n",
              "      <td>2</td>\n",
              "      <td>99</td>\n",
              "      <td>6.35</td>\n",
              "      <td>6.84</td>\n",
              "      <td>2</td>\n",
              "    </tr>\n",
              "    <tr>\n",
              "      <td>88</td>\n",
              "      <td>1</td>\n",
              "      <td>100</td>\n",
              "      <td>2</td>\n",
              "      <td>20</td>\n",
              "      <td>1</td>\n",
              "      <td>1</td>\n",
              "      <td>14</td>\n",
              "      <td>9.83</td>\n",
              "      <td>10.92</td>\n",
              "      <td>2</td>\n",
              "    </tr>\n",
              "    <tr>\n",
              "      <td>89</td>\n",
              "      <td>1</td>\n",
              "      <td>28</td>\n",
              "      <td>1</td>\n",
              "      <td>28</td>\n",
              "      <td>1</td>\n",
              "      <td>2</td>\n",
              "      <td>55</td>\n",
              "      <td>12.16</td>\n",
              "      <td>13.05</td>\n",
              "      <td>2</td>\n",
              "    </tr>\n",
              "  </tbody>\n",
              "</table>\n",
              "<p>90 rows × 10 columns</p>\n",
              "</div>"
            ],
            "text/plain": [
              "    Type CH.Area CH.Shape  CH.HT CH.Liner  House  Age  BTU.In  BTU.Out  Damper\n",
              "0      1      28        1     20        2      3    8    7.87     8.25       1\n",
              "1      2     144        2     26        0      2   75    9.43     9.66       1\n",
              "2      1      80        3     30        1      2   44    7.16     8.33       1\n",
              "3      2     100        2     24        0      2   75    8.67     8.82       1\n",
              "4      3     168        3     35        1      2   30   12.31    12.06       1\n",
              "..   ...     ...      ...    ...      ...    ...  ...     ...      ...     ...\n",
              "85     2     100        2     24        0      2   70   14.35    15.26       2\n",
              "86     2      96        1     17        0      1   40   13.42    14.53       2\n",
              "87     1     100        2     20        1      2   99    6.35     6.84       2\n",
              "88     1     100        2     20        1      1   14    9.83    10.92       2\n",
              "89     1      28        1     28        1      2   55   12.16    13.05       2\n",
              "\n",
              "[90 rows x 10 columns]"
            ]
          },
          "metadata": {
            "tags": []
          },
          "execution_count": 156
        }
      ]
    },
    {
      "cell_type": "code",
      "metadata": {
        "id": "UiM6YjywepW7",
        "colab_type": "code",
        "colab": {},
        "outputId": "06a0ed63-ac15-4d6c-8f9a-06c0aac248d2"
      },
      "source": [
        "data = {'Category': ['cat2','cat1','cat2','cat1','cat2','cat1','cat2','cat1','cat1','cat1','cat2'],\n",
        "        'values': [1,2,3,1,2,3,1,2,3,5,1]}\n",
        "my_data = pd.DataFrame(data)\n",
        "my_data.groupby('Category').mean()"
      ],
      "execution_count": null,
      "outputs": [
        {
          "output_type": "execute_result",
          "data": {
            "text/html": [
              "<div>\n",
              "<style scoped>\n",
              "    .dataframe tbody tr th:only-of-type {\n",
              "        vertical-align: middle;\n",
              "    }\n",
              "\n",
              "    .dataframe tbody tr th {\n",
              "        vertical-align: top;\n",
              "    }\n",
              "\n",
              "    .dataframe thead th {\n",
              "        text-align: right;\n",
              "    }\n",
              "</style>\n",
              "<table border=\"1\" class=\"dataframe\">\n",
              "  <thead>\n",
              "    <tr style=\"text-align: right;\">\n",
              "      <th></th>\n",
              "      <th>values</th>\n",
              "    </tr>\n",
              "    <tr>\n",
              "      <th>Category</th>\n",
              "      <th></th>\n",
              "    </tr>\n",
              "  </thead>\n",
              "  <tbody>\n",
              "    <tr>\n",
              "      <td>cat1</td>\n",
              "      <td>2.666667</td>\n",
              "    </tr>\n",
              "    <tr>\n",
              "      <td>cat2</td>\n",
              "      <td>1.600000</td>\n",
              "    </tr>\n",
              "  </tbody>\n",
              "</table>\n",
              "</div>"
            ],
            "text/plain": [
              "            values\n",
              "Category          \n",
              "cat1      2.666667\n",
              "cat2      1.600000"
            ]
          },
          "metadata": {
            "tags": []
          },
          "execution_count": 4
        }
      ]
    },
    {
      "cell_type": "code",
      "metadata": {
        "id": "nDLJj1X9epW8",
        "colab_type": "code",
        "colab": {},
        "outputId": "de4b1601-1822-4756-f718-03a44bac73ac"
      },
      "source": [
        "my_data"
      ],
      "execution_count": null,
      "outputs": [
        {
          "output_type": "execute_result",
          "data": {
            "text/html": [
              "<div>\n",
              "<style scoped>\n",
              "    .dataframe tbody tr th:only-of-type {\n",
              "        vertical-align: middle;\n",
              "    }\n",
              "\n",
              "    .dataframe tbody tr th {\n",
              "        vertical-align: top;\n",
              "    }\n",
              "\n",
              "    .dataframe thead th {\n",
              "        text-align: right;\n",
              "    }\n",
              "</style>\n",
              "<table border=\"1\" class=\"dataframe\">\n",
              "  <thead>\n",
              "    <tr style=\"text-align: right;\">\n",
              "      <th></th>\n",
              "      <th>Category</th>\n",
              "      <th>values</th>\n",
              "    </tr>\n",
              "  </thead>\n",
              "  <tbody>\n",
              "    <tr>\n",
              "      <td>0</td>\n",
              "      <td>cat2</td>\n",
              "      <td>1</td>\n",
              "    </tr>\n",
              "    <tr>\n",
              "      <td>1</td>\n",
              "      <td>cat1</td>\n",
              "      <td>2</td>\n",
              "    </tr>\n",
              "    <tr>\n",
              "      <td>2</td>\n",
              "      <td>cat2</td>\n",
              "      <td>3</td>\n",
              "    </tr>\n",
              "    <tr>\n",
              "      <td>3</td>\n",
              "      <td>cat1</td>\n",
              "      <td>1</td>\n",
              "    </tr>\n",
              "    <tr>\n",
              "      <td>4</td>\n",
              "      <td>cat2</td>\n",
              "      <td>2</td>\n",
              "    </tr>\n",
              "    <tr>\n",
              "      <td>5</td>\n",
              "      <td>cat1</td>\n",
              "      <td>3</td>\n",
              "    </tr>\n",
              "    <tr>\n",
              "      <td>6</td>\n",
              "      <td>cat2</td>\n",
              "      <td>1</td>\n",
              "    </tr>\n",
              "    <tr>\n",
              "      <td>7</td>\n",
              "      <td>cat1</td>\n",
              "      <td>2</td>\n",
              "    </tr>\n",
              "    <tr>\n",
              "      <td>8</td>\n",
              "      <td>cat1</td>\n",
              "      <td>3</td>\n",
              "    </tr>\n",
              "    <tr>\n",
              "      <td>9</td>\n",
              "      <td>cat1</td>\n",
              "      <td>5</td>\n",
              "    </tr>\n",
              "    <tr>\n",
              "      <td>10</td>\n",
              "      <td>cat2</td>\n",
              "      <td>1</td>\n",
              "    </tr>\n",
              "  </tbody>\n",
              "</table>\n",
              "</div>"
            ],
            "text/plain": [
              "   Category  values\n",
              "0      cat2       1\n",
              "1      cat1       2\n",
              "2      cat2       3\n",
              "3      cat1       1\n",
              "4      cat2       2\n",
              "5      cat1       3\n",
              "6      cat2       1\n",
              "7      cat1       2\n",
              "8      cat1       3\n",
              "9      cat1       5\n",
              "10     cat2       1"
            ]
          },
          "metadata": {
            "tags": []
          },
          "execution_count": 5
        }
      ]
    },
    {
      "cell_type": "code",
      "metadata": {
        "id": "PWwQh-NpepW9",
        "colab_type": "code",
        "colab": {}
      },
      "source": [
        "import pandas as pd"
      ],
      "execution_count": null,
      "outputs": []
    },
    {
      "cell_type": "code",
      "metadata": {
        "id": "HhCSjWBgepXB",
        "colab_type": "code",
        "colab": {},
        "outputId": "c5590e7d-a741-47eb-9f52-44abba4768b6"
      },
      "source": [
        "cat1 = my_data[my_data['Category']=='cat1']\n",
        "cat2 = my_data[my_data['Category']=='cat2']\n",
        "cat1,cat2"
      ],
      "execution_count": null,
      "outputs": [
        {
          "output_type": "execute_result",
          "data": {
            "text/plain": [
              "(  Category  values\n",
              " 1     cat1       2\n",
              " 3     cat1       1\n",
              " 5     cat1       3\n",
              " 7     cat1       2\n",
              " 8     cat1       3\n",
              " 9     cat1       5,    Category  values\n",
              " 0      cat2       1\n",
              " 2      cat2       3\n",
              " 4      cat2       2\n",
              " 6      cat2       1\n",
              " 10     cat2       1)"
            ]
          },
          "metadata": {
            "tags": []
          },
          "execution_count": 170
        }
      ]
    },
    {
      "cell_type": "markdown",
      "metadata": {
        "id": "5W56GA6aepXC",
        "colab_type": "text"
      },
      "source": [
        "T-test to see if the mean of cat1 and cat2 are statistically different."
      ]
    },
    {
      "cell_type": "code",
      "metadata": {
        "id": "fFCGEnOgepXC",
        "colab_type": "code",
        "colab": {},
        "outputId": "30244149-cbe7-4464-e053-3db3222c5e30"
      },
      "source": [
        "stats.bartlett(cat1['values'],cat2['values'])"
      ],
      "execution_count": null,
      "outputs": [
        {
          "output_type": "execute_result",
          "data": {
            "text/plain": [
              "BartlettResult(statistic=0.6759500041337714, pvalue=0.4109848239461533)"
            ]
          },
          "metadata": {
            "tags": []
          },
          "execution_count": 167
        }
      ]
    },
    {
      "cell_type": "code",
      "metadata": {
        "id": "kHdVKy9bepXE",
        "colab_type": "code",
        "colab": {},
        "outputId": "97a0f1cb-409d-44cd-8c91-54cec0f13dc9"
      },
      "source": [
        "stats.ttest_ind(cat1['values'], cat2['values'], equal_var=True)"
      ],
      "execution_count": null,
      "outputs": [
        {
          "output_type": "execute_result",
          "data": {
            "text/plain": [
              "Ttest_indResult(statistic=1.4927289925706944, pvalue=0.16970867501294376)"
            ]
          },
          "metadata": {
            "tags": []
          },
          "execution_count": 169
        }
      ]
    },
    {
      "cell_type": "code",
      "metadata": {
        "id": "BUyaqqjLepXF",
        "colab_type": "code",
        "colab": {},
        "outputId": "839889fc-8625-47b7-fd12-998591263798"
      },
      "source": [
        "help(stats.ttest_rel)"
      ],
      "execution_count": null,
      "outputs": [
        {
          "output_type": "stream",
          "text": [
            "Help on function ttest_rel in module scipy.stats.stats:\n",
            "\n",
            "ttest_rel(a, b, axis=0, nan_policy='propagate')\n",
            "    Calculate the T-test on TWO RELATED samples of scores, a and b.\n",
            "    \n",
            "    This is a two-sided test for the null hypothesis that 2 related or\n",
            "    repeated samples have identical average (expected) values.\n",
            "    \n",
            "    Parameters\n",
            "    ----------\n",
            "    a, b : array_like\n",
            "        The arrays must have the same shape.\n",
            "    axis : int or None, optional\n",
            "        Axis along which to compute test. If None, compute over the whole\n",
            "        arrays, `a`, and `b`.\n",
            "    nan_policy : {'propagate', 'raise', 'omit'}, optional\n",
            "        Defines how to handle when input contains nan. 'propagate' returns nan,\n",
            "        'raise' throws an error, 'omit' performs the calculations ignoring nan\n",
            "        values. Default is 'propagate'.\n",
            "    \n",
            "    Returns\n",
            "    -------\n",
            "    statistic : float or array\n",
            "        t-statistic\n",
            "    pvalue : float or array\n",
            "        two-tailed p-value\n",
            "    \n",
            "    Notes\n",
            "    -----\n",
            "    Examples for the use are scores of the same set of student in\n",
            "    different exams, or repeated sampling from the same units. The\n",
            "    test measures whether the average score differs significantly\n",
            "    across samples (e.g. exams). If we observe a large p-value, for\n",
            "    example greater than 0.05 or 0.1 then we cannot reject the null\n",
            "    hypothesis of identical average scores. If the p-value is smaller\n",
            "    than the threshold, e.g. 1%, 5% or 10%, then we reject the null\n",
            "    hypothesis of equal averages. Small p-values are associated with\n",
            "    large t-statistics.\n",
            "    \n",
            "    References\n",
            "    ----------\n",
            "    https://en.wikipedia.org/wiki/T-test#Dependent_t-test_for_paired_samples\n",
            "    \n",
            "    Examples\n",
            "    --------\n",
            "    >>> from scipy import stats\n",
            "    >>> np.random.seed(12345678) # fix random seed to get same numbers\n",
            "    \n",
            "    >>> rvs1 = stats.norm.rvs(loc=5,scale=10,size=500)\n",
            "    >>> rvs2 = (stats.norm.rvs(loc=5,scale=10,size=500) +\n",
            "    ...         stats.norm.rvs(scale=0.2,size=500))\n",
            "    >>> stats.ttest_rel(rvs1,rvs2)\n",
            "    (0.24101764965300962, 0.80964043445811562)\n",
            "    >>> rvs3 = (stats.norm.rvs(loc=8,scale=10,size=500) +\n",
            "    ...         stats.norm.rvs(scale=0.2,size=500))\n",
            "    >>> stats.ttest_rel(rvs1,rvs3)\n",
            "    (-3.9995108708727933, 7.3082402191726459e-005)\n",
            "\n"
          ],
          "name": "stdout"
        }
      ]
    },
    {
      "cell_type": "markdown",
      "metadata": {
        "id": "PHSXebB7epXG",
        "colab_type": "text"
      },
      "source": [
        "### Chi Square test"
      ]
    },
    {
      "cell_type": "code",
      "metadata": {
        "id": "OsF61VD1epXH",
        "colab_type": "code",
        "colab": {}
      },
      "source": [
        "import pandas as pd\n",
        "df = pd.read_csv('Chi_Sq.csv')"
      ],
      "execution_count": null,
      "outputs": []
    },
    {
      "cell_type": "code",
      "metadata": {
        "id": "JDjjHbUbepXI",
        "colab_type": "code",
        "colab": {},
        "outputId": "a888c7d5-59fb-4de6-af78-a526ae8194ff"
      },
      "source": [
        "df"
      ],
      "execution_count": null,
      "outputs": [
        {
          "output_type": "execute_result",
          "data": {
            "text/html": [
              "<div>\n",
              "<style scoped>\n",
              "    .dataframe tbody tr th:only-of-type {\n",
              "        vertical-align: middle;\n",
              "    }\n",
              "\n",
              "    .dataframe tbody tr th {\n",
              "        vertical-align: top;\n",
              "    }\n",
              "\n",
              "    .dataframe thead th {\n",
              "        text-align: right;\n",
              "    }\n",
              "</style>\n",
              "<table border=\"1\" class=\"dataframe\">\n",
              "  <thead>\n",
              "    <tr style=\"text-align: right;\">\n",
              "      <th></th>\n",
              "      <th>Gender</th>\n",
              "      <th>Party</th>\n",
              "    </tr>\n",
              "  </thead>\n",
              "  <tbody>\n",
              "    <tr>\n",
              "      <td>0</td>\n",
              "      <td>male</td>\n",
              "      <td>democrat</td>\n",
              "    </tr>\n",
              "    <tr>\n",
              "      <td>1</td>\n",
              "      <td>male</td>\n",
              "      <td>democrat</td>\n",
              "    </tr>\n",
              "    <tr>\n",
              "      <td>2</td>\n",
              "      <td>male</td>\n",
              "      <td>democrat</td>\n",
              "    </tr>\n",
              "    <tr>\n",
              "      <td>3</td>\n",
              "      <td>male</td>\n",
              "      <td>democrat</td>\n",
              "    </tr>\n",
              "    <tr>\n",
              "      <td>4</td>\n",
              "      <td>male</td>\n",
              "      <td>democrat</td>\n",
              "    </tr>\n",
              "    <tr>\n",
              "      <td>...</td>\n",
              "      <td>...</td>\n",
              "      <td>...</td>\n",
              "    </tr>\n",
              "    <tr>\n",
              "      <td>95</td>\n",
              "      <td>male</td>\n",
              "      <td>other</td>\n",
              "    </tr>\n",
              "    <tr>\n",
              "      <td>96</td>\n",
              "      <td>male</td>\n",
              "      <td>other</td>\n",
              "    </tr>\n",
              "    <tr>\n",
              "      <td>97</td>\n",
              "      <td>male</td>\n",
              "      <td>other</td>\n",
              "    </tr>\n",
              "    <tr>\n",
              "      <td>98</td>\n",
              "      <td>male</td>\n",
              "      <td>other</td>\n",
              "    </tr>\n",
              "    <tr>\n",
              "      <td>99</td>\n",
              "      <td>female</td>\n",
              "      <td>other</td>\n",
              "    </tr>\n",
              "  </tbody>\n",
              "</table>\n",
              "<p>100 rows × 2 columns</p>\n",
              "</div>"
            ],
            "text/plain": [
              "    Gender     Party\n",
              "0     male  democrat\n",
              "1     male  democrat\n",
              "2     male  democrat\n",
              "3     male  democrat\n",
              "4     male  democrat\n",
              "..     ...       ...\n",
              "95    male     other\n",
              "96    male     other\n",
              "97    male     other\n",
              "98    male     other\n",
              "99  female     other\n",
              "\n",
              "[100 rows x 2 columns]"
            ]
          },
          "metadata": {
            "tags": []
          },
          "execution_count": 2
        }
      ]
    },
    {
      "cell_type": "markdown",
      "metadata": {
        "id": "h0RB5Mx_epXJ",
        "colab_type": "text"
      },
      "source": [
        "#### H0: gender and voting preferences are independent."
      ]
    },
    {
      "cell_type": "code",
      "metadata": {
        "id": "eUnH-P4-epXJ",
        "colab_type": "code",
        "colab": {},
        "outputId": "9cceae28-31ad-4f6b-d7eb-ff9ddc9b570b"
      },
      "source": [
        "contingency_table=pd.crosstab(df[\"Gender\"],df[\"Party\"])\n",
        "contingency_table"
      ],
      "execution_count": null,
      "outputs": [
        {
          "output_type": "execute_result",
          "data": {
            "text/html": [
              "<div>\n",
              "<style scoped>\n",
              "    .dataframe tbody tr th:only-of-type {\n",
              "        vertical-align: middle;\n",
              "    }\n",
              "\n",
              "    .dataframe tbody tr th {\n",
              "        vertical-align: top;\n",
              "    }\n",
              "\n",
              "    .dataframe thead th {\n",
              "        text-align: right;\n",
              "    }\n",
              "</style>\n",
              "<table border=\"1\" class=\"dataframe\">\n",
              "  <thead>\n",
              "    <tr style=\"text-align: right;\">\n",
              "      <th>Party</th>\n",
              "      <th>democrat</th>\n",
              "      <th>other</th>\n",
              "      <th>republic</th>\n",
              "    </tr>\n",
              "    <tr>\n",
              "      <th>Gender</th>\n",
              "      <th></th>\n",
              "      <th></th>\n",
              "      <th></th>\n",
              "    </tr>\n",
              "  </thead>\n",
              "  <tbody>\n",
              "    <tr>\n",
              "      <td>female</td>\n",
              "      <td>22</td>\n",
              "      <td>1</td>\n",
              "      <td>27</td>\n",
              "    </tr>\n",
              "    <tr>\n",
              "      <td>male</td>\n",
              "      <td>28</td>\n",
              "      <td>4</td>\n",
              "      <td>18</td>\n",
              "    </tr>\n",
              "  </tbody>\n",
              "</table>\n",
              "</div>"
            ],
            "text/plain": [
              "Party   democrat  other  republic\n",
              "Gender                           \n",
              "female        22      1        27\n",
              "male          28      4        18"
            ]
          },
          "metadata": {
            "tags": []
          },
          "execution_count": 13
        }
      ]
    },
    {
      "cell_type": "code",
      "metadata": {
        "id": "nDMveacSepXL",
        "colab_type": "code",
        "colab": {},
        "outputId": "c43eb9c1-9eb5-4f18-ca16-2d1e17385b0b"
      },
      "source": [
        "print('contingency_table :-\\n',contingency_table)#Observed Values\n",
        "Observed_Values = contingency_table.values \n",
        "print(\"Observed Values :-\\n\",Observed_Values)"
      ],
      "execution_count": null,
      "outputs": [
        {
          "output_type": "stream",
          "text": [
            "contingency_table :-\n",
            " Party   democrat  other  republic\n",
            "Gender                           \n",
            "female        22      1        27\n",
            "male          28      4        18\n",
            "Observed Values :-\n",
            " [[22  1 27]\n",
            " [28  4 18]]\n"
          ],
          "name": "stdout"
        }
      ]
    },
    {
      "cell_type": "code",
      "metadata": {
        "id": "Df-an3V7epXN",
        "colab_type": "code",
        "colab": {}
      },
      "source": [
        "from scipy.stats import chi2_contingency,chisquare\n",
        "stat, p, dof, expected = chi2_contingency(contingency_table)"
      ],
      "execution_count": null,
      "outputs": []
    },
    {
      "cell_type": "code",
      "metadata": {
        "id": "qj5u8xiLepXO",
        "colab_type": "code",
        "colab": {},
        "outputId": "8f91258d-6a01-4702-a12a-d8e014060988"
      },
      "source": [
        "stat, p, dof, expected"
      ],
      "execution_count": null,
      "outputs": [
        {
          "output_type": "execute_result",
          "data": {
            "text/plain": [
              "(4.32, 0.11532512103806253, 2, array([[25. ,  2.5, 22.5],\n",
              "        [25. ,  2.5, 22.5]]))"
            ]
          },
          "metadata": {
            "tags": []
          },
          "execution_count": 16
        }
      ]
    },
    {
      "cell_type": "code",
      "metadata": {
        "id": "xYtP0MT4epXS",
        "colab_type": "code",
        "colab": {},
        "outputId": "c57ee437-7e7c-42ec-9e78-9a8abcb354fb"
      },
      "source": [
        "expected"
      ],
      "execution_count": null,
      "outputs": [
        {
          "output_type": "execute_result",
          "data": {
            "text/plain": [
              "array([[25. ,  2.5, 22.5],\n",
              "       [25. ,  2.5, 22.5]])"
            ]
          },
          "metadata": {
            "tags": []
          },
          "execution_count": 17
        }
      ]
    },
    {
      "cell_type": "code",
      "metadata": {
        "id": "CPpdNUhAepXT",
        "colab_type": "code",
        "colab": {}
      },
      "source": [
        "from scipy.stats import chi2\n",
        "alpha = .05\n",
        "ddof = dof"
      ],
      "execution_count": null,
      "outputs": []
    },
    {
      "cell_type": "code",
      "metadata": {
        "id": "gHomEcMbepXV",
        "colab_type": "code",
        "colab": {},
        "outputId": "13bfe4a7-7e67-4fba-e6b8-ef4a30bad763"
      },
      "source": [
        "critical_value=chi2.ppf(q=1-alpha, df=ddof)\n",
        "print('critical_value:',critical_value)"
      ],
      "execution_count": null,
      "outputs": [
        {
          "output_type": "stream",
          "text": [
            "critical_value: 5.991464547107979\n"
          ],
          "name": "stdout"
        }
      ]
    },
    {
      "cell_type": "code",
      "metadata": {
        "id": "k0vPmmIuepXX",
        "colab_type": "code",
        "colab": {},
        "outputId": "66c4cc54-9b3c-4c78-93f6-9539f1f5a78c"
      },
      "source": [
        "if stat>=critical_value:\n",
        "    print(\"Reject H0,There is a relationship between 2 categorical variables\")\n",
        "else:\n",
        "    print(\"Retain H0,There is no relationship between 2 categorical variables\")\n",
        "    \n",
        "if p<=alpha:\n",
        "    print(\"Reject H0,There is a relationship between 2 categorical variables\")\n",
        "else:\n",
        "    print(\"Retain H0,There is no relationship between 2 categorical variables\")"
      ],
      "execution_count": null,
      "outputs": [
        {
          "output_type": "stream",
          "text": [
            "Retain H0,There is no relationship between 2 categorical variables\n",
            "Retain H0,There is no relationship between 2 categorical variables\n"
          ],
          "name": "stdout"
        }
      ]
    },
    {
      "cell_type": "code",
      "metadata": {
        "id": "c3PlWYeIepXY",
        "colab_type": "code",
        "colab": {}
      },
      "source": [
        "200–180)²/180 + (150–180)²/180 + (50–40)²/40 + (250–270)²/270 + (300–270)²/270 + (50–60)²/60"
      ],
      "execution_count": null,
      "outputs": []
    },
    {
      "cell_type": "code",
      "metadata": {
        "id": "kTiV5lNrepXa",
        "colab_type": "code",
        "colab": {},
        "outputId": "c93fe26d-cd98-4801-f67d-f1d0fe986944"
      },
      "source": [
        "expected = [[180,  180, 40], [270,270,60]]\n",
        "expected"
      ],
      "execution_count": null,
      "outputs": [
        {
          "output_type": "execute_result",
          "data": {
            "text/plain": [
              "[[180, 180, 40], [270, 270, 60]]"
            ]
          },
          "metadata": {
            "tags": []
          },
          "execution_count": 40
        }
      ]
    },
    {
      "cell_type": "code",
      "metadata": {
        "id": "yUM4M4MzepXc",
        "colab_type": "code",
        "colab": {}
      },
      "source": [
        "stat, p, dof, expected = chi2_contingency(table.table_orig)"
      ],
      "execution_count": null,
      "outputs": []
    },
    {
      "cell_type": "code",
      "metadata": {
        "id": "2tCADoFLepXd",
        "colab_type": "code",
        "colab": {}
      },
      "source": [
        "ddof = 1*2"
      ],
      "execution_count": null,
      "outputs": []
    },
    {
      "cell_type": "code",
      "metadata": {
        "id": "P_HyDjzqepXe",
        "colab_type": "code",
        "colab": {},
        "outputId": "aeda5978-62c9-4474-a3c7-7244a75df2ce"
      },
      "source": [
        "no_of_rows=len(contingency_table.iloc[0:2,0])\n",
        "no_of_columns=len(contingency_table.iloc[0,0:2])\n",
        "ddof=(no_of_rows-1)*(no_of_columns-1)\n",
        "print(\"Degree of Freedom:-\",ddof)"
      ],
      "execution_count": null,
      "outputs": [
        {
          "output_type": "error",
          "ename": "AttributeError",
          "evalue": "'list' object has no attribute 'iloc'",
          "traceback": [
            "\u001b[0;31m---------------------------------------------------------------------------\u001b[0m",
            "\u001b[0;31mAttributeError\u001b[0m                            Traceback (most recent call last)",
            "\u001b[0;32m<ipython-input-41-513c9d54e2cc>\u001b[0m in \u001b[0;36m<module>\u001b[0;34m\u001b[0m\n\u001b[0;32m----> 1\u001b[0;31m \u001b[0mno_of_rows\u001b[0m\u001b[0;34m=\u001b[0m\u001b[0mlen\u001b[0m\u001b[0;34m(\u001b[0m\u001b[0mcontingency_table\u001b[0m\u001b[0;34m.\u001b[0m\u001b[0miloc\u001b[0m\u001b[0;34m[\u001b[0m\u001b[0;36m0\u001b[0m\u001b[0;34m:\u001b[0m\u001b[0;36m2\u001b[0m\u001b[0;34m,\u001b[0m\u001b[0;36m0\u001b[0m\u001b[0;34m]\u001b[0m\u001b[0;34m)\u001b[0m\u001b[0;34m\u001b[0m\u001b[0;34m\u001b[0m\u001b[0m\n\u001b[0m\u001b[1;32m      2\u001b[0m \u001b[0mno_of_columns\u001b[0m\u001b[0;34m=\u001b[0m\u001b[0mlen\u001b[0m\u001b[0;34m(\u001b[0m\u001b[0mcontingency_table\u001b[0m\u001b[0;34m.\u001b[0m\u001b[0miloc\u001b[0m\u001b[0;34m[\u001b[0m\u001b[0;36m0\u001b[0m\u001b[0;34m,\u001b[0m\u001b[0;36m0\u001b[0m\u001b[0;34m:\u001b[0m\u001b[0;36m2\u001b[0m\u001b[0;34m]\u001b[0m\u001b[0;34m)\u001b[0m\u001b[0;34m\u001b[0m\u001b[0;34m\u001b[0m\u001b[0m\n\u001b[1;32m      3\u001b[0m \u001b[0mddof\u001b[0m\u001b[0;34m=\u001b[0m\u001b[0;34m(\u001b[0m\u001b[0mno_of_rows\u001b[0m\u001b[0;34m-\u001b[0m\u001b[0;36m1\u001b[0m\u001b[0;34m)\u001b[0m\u001b[0;34m*\u001b[0m\u001b[0;34m(\u001b[0m\u001b[0mno_of_columns\u001b[0m\u001b[0;34m-\u001b[0m\u001b[0;36m1\u001b[0m\u001b[0;34m)\u001b[0m\u001b[0;34m\u001b[0m\u001b[0;34m\u001b[0m\u001b[0m\n\u001b[1;32m      4\u001b[0m \u001b[0mprint\u001b[0m\u001b[0;34m(\u001b[0m\u001b[0;34m\"Degree of Freedom:-\"\u001b[0m\u001b[0;34m,\u001b[0m\u001b[0mddof\u001b[0m\u001b[0;34m)\u001b[0m\u001b[0;34m\u001b[0m\u001b[0;34m\u001b[0m\u001b[0m\n",
            "\u001b[0;31mAttributeError\u001b[0m: 'list' object has no attribute 'iloc'"
          ]
        }
      ]
    },
    {
      "cell_type": "code",
      "metadata": {
        "id": "esTnCgORepXf",
        "colab_type": "code",
        "colab": {},
        "outputId": "ff98cac0-31d9-4cef-c83c-cf798550ba86"
      },
      "source": [
        "import statsmodels.api as sm\n",
        "data = df[[\"Gender\", \"Party\"]]\n",
        "\n",
        "table = sm.stats.Table.from_data(data)\n",
        "table.table_orig"
      ],
      "execution_count": null,
      "outputs": [
        {
          "output_type": "execute_result",
          "data": {
            "text/html": [
              "<div>\n",
              "<style scoped>\n",
              "    .dataframe tbody tr th:only-of-type {\n",
              "        vertical-align: middle;\n",
              "    }\n",
              "\n",
              "    .dataframe tbody tr th {\n",
              "        vertical-align: top;\n",
              "    }\n",
              "\n",
              "    .dataframe thead th {\n",
              "        text-align: right;\n",
              "    }\n",
              "</style>\n",
              "<table border=\"1\" class=\"dataframe\">\n",
              "  <thead>\n",
              "    <tr style=\"text-align: right;\">\n",
              "      <th>Party</th>\n",
              "      <th>democrat</th>\n",
              "      <th>other</th>\n",
              "      <th>republic</th>\n",
              "    </tr>\n",
              "    <tr>\n",
              "      <th>Gender</th>\n",
              "      <th></th>\n",
              "      <th></th>\n",
              "      <th></th>\n",
              "    </tr>\n",
              "  </thead>\n",
              "  <tbody>\n",
              "    <tr>\n",
              "      <td>female</td>\n",
              "      <td>22</td>\n",
              "      <td>1</td>\n",
              "      <td>27</td>\n",
              "    </tr>\n",
              "    <tr>\n",
              "      <td>male</td>\n",
              "      <td>28</td>\n",
              "      <td>4</td>\n",
              "      <td>18</td>\n",
              "    </tr>\n",
              "  </tbody>\n",
              "</table>\n",
              "</div>"
            ],
            "text/plain": [
              "Party   democrat  other  republic\n",
              "Gender                           \n",
              "female        22      1        27\n",
              "male          28      4        18"
            ]
          },
          "metadata": {
            "tags": []
          },
          "execution_count": 5
        }
      ]
    },
    {
      "cell_type": "code",
      "metadata": {
        "id": "TyuVKfwLepXj",
        "colab_type": "code",
        "colab": {},
        "outputId": "2c2b050f-82a4-4d68-dcbe-e04789943a02"
      },
      "source": [
        "table.fittedvalues"
      ],
      "execution_count": null,
      "outputs": [
        {
          "output_type": "execute_result",
          "data": {
            "text/html": [
              "<div>\n",
              "<style scoped>\n",
              "    .dataframe tbody tr th:only-of-type {\n",
              "        vertical-align: middle;\n",
              "    }\n",
              "\n",
              "    .dataframe tbody tr th {\n",
              "        vertical-align: top;\n",
              "    }\n",
              "\n",
              "    .dataframe thead th {\n",
              "        text-align: right;\n",
              "    }\n",
              "</style>\n",
              "<table border=\"1\" class=\"dataframe\">\n",
              "  <thead>\n",
              "    <tr style=\"text-align: right;\">\n",
              "      <th>Party</th>\n",
              "      <th>democrat</th>\n",
              "      <th>other</th>\n",
              "      <th>republic</th>\n",
              "    </tr>\n",
              "    <tr>\n",
              "      <th>Gender</th>\n",
              "      <th></th>\n",
              "      <th></th>\n",
              "      <th></th>\n",
              "    </tr>\n",
              "  </thead>\n",
              "  <tbody>\n",
              "    <tr>\n",
              "      <td>female</td>\n",
              "      <td>25.0</td>\n",
              "      <td>2.5</td>\n",
              "      <td>22.5</td>\n",
              "    </tr>\n",
              "    <tr>\n",
              "      <td>male</td>\n",
              "      <td>25.0</td>\n",
              "      <td>2.5</td>\n",
              "      <td>22.5</td>\n",
              "    </tr>\n",
              "  </tbody>\n",
              "</table>\n",
              "</div>"
            ],
            "text/plain": [
              "Party   democrat  other  republic\n",
              "Gender                           \n",
              "female      25.0    2.5      22.5\n",
              "male        25.0    2.5      22.5"
            ]
          },
          "metadata": {
            "tags": []
          },
          "execution_count": 6
        }
      ]
    },
    {
      "cell_type": "code",
      "metadata": {
        "id": "SXWG2WuWepXl",
        "colab_type": "code",
        "colab": {},
        "outputId": "8d069161-a3b1-49a9-e92c-2d171f0ec390"
      },
      "source": [
        "table.resid_pearson"
      ],
      "execution_count": null,
      "outputs": [
        {
          "output_type": "execute_result",
          "data": {
            "text/html": [
              "<div>\n",
              "<style scoped>\n",
              "    .dataframe tbody tr th:only-of-type {\n",
              "        vertical-align: middle;\n",
              "    }\n",
              "\n",
              "    .dataframe tbody tr th {\n",
              "        vertical-align: top;\n",
              "    }\n",
              "\n",
              "    .dataframe thead th {\n",
              "        text-align: right;\n",
              "    }\n",
              "</style>\n",
              "<table border=\"1\" class=\"dataframe\">\n",
              "  <thead>\n",
              "    <tr style=\"text-align: right;\">\n",
              "      <th>Party</th>\n",
              "      <th>democrat</th>\n",
              "      <th>other</th>\n",
              "      <th>republic</th>\n",
              "    </tr>\n",
              "    <tr>\n",
              "      <th>Gender</th>\n",
              "      <th></th>\n",
              "      <th></th>\n",
              "      <th></th>\n",
              "    </tr>\n",
              "  </thead>\n",
              "  <tbody>\n",
              "    <tr>\n",
              "      <td>female</td>\n",
              "      <td>-0.6</td>\n",
              "      <td>-0.948683</td>\n",
              "      <td>0.948683</td>\n",
              "    </tr>\n",
              "    <tr>\n",
              "      <td>male</td>\n",
              "      <td>0.6</td>\n",
              "      <td>0.948683</td>\n",
              "      <td>-0.948683</td>\n",
              "    </tr>\n",
              "  </tbody>\n",
              "</table>\n",
              "</div>"
            ],
            "text/plain": [
              "Party   democrat     other  republic\n",
              "Gender                              \n",
              "female      -0.6 -0.948683  0.948683\n",
              "male         0.6  0.948683 -0.948683"
            ]
          },
          "metadata": {
            "tags": []
          },
          "execution_count": 7
        }
      ]
    },
    {
      "cell_type": "code",
      "metadata": {
        "id": "Z5nBX3A2epXm",
        "colab_type": "code",
        "colab": {}
      },
      "source": [
        "from scipy.stats import chi2_contingency,chisquare"
      ],
      "execution_count": null,
      "outputs": []
    },
    {
      "cell_type": "code",
      "metadata": {
        "id": "_f6EYdvjepXn",
        "colab_type": "code",
        "colab": {}
      },
      "source": [
        "stat, p, dof, expected = chi2_contingency(table.table_orig)"
      ],
      "execution_count": null,
      "outputs": []
    },
    {
      "cell_type": "code",
      "metadata": {
        "id": "en5Me7abepXq",
        "colab_type": "code",
        "colab": {},
        "outputId": "09044cc8-d96e-4892-eb02-695bcba2c237"
      },
      "source": [
        "expected,dof,p,stat"
      ],
      "execution_count": null,
      "outputs": [
        {
          "output_type": "execute_result",
          "data": {
            "text/plain": [
              "(array([[25. ,  2.5, 22.5],\n",
              "        [25. ,  2.5, 22.5]]), 2, 0.11532512103806253, 4.32)"
            ]
          },
          "metadata": {
            "tags": []
          },
          "execution_count": 33
        }
      ]
    },
    {
      "cell_type": "code",
      "metadata": {
        "id": "tXM2Ux89epXs",
        "colab_type": "code",
        "colab": {}
      },
      "source": [
        "chi2, p = chisquare(table.table_orig.values.ravel(), f_exp=expected.ravel(),\n",
        "                             ddof=table.table_orig - 1 - dof,axis=None)"
      ],
      "execution_count": null,
      "outputs": []
    },
    {
      "cell_type": "code",
      "metadata": {
        "id": "oALIeXd-epXu",
        "colab_type": "code",
        "colab": {},
        "outputId": "3e4098b3-c565-4c9e-9a3c-14bdafd000e4"
      },
      "source": [
        "chi2"
      ],
      "execution_count": null,
      "outputs": [
        {
          "output_type": "execute_result",
          "data": {
            "text/plain": [
              "4.32"
            ]
          },
          "metadata": {
            "tags": []
          },
          "execution_count": 25
        }
      ]
    },
    {
      "cell_type": "markdown",
      "metadata": {
        "id": "1g8Vw1K2epXy",
        "colab_type": "text"
      },
      "source": [
        "### ANOVA"
      ]
    },
    {
      "cell_type": "code",
      "metadata": {
        "id": "KW8n9zepepXy",
        "colab_type": "code",
        "colab": {}
      },
      "source": [
        "import scipy.stats as stats"
      ],
      "execution_count": null,
      "outputs": []
    },
    {
      "cell_type": "code",
      "metadata": {
        "id": "kpSd64QtepX1",
        "colab_type": "code",
        "colab": {}
      },
      "source": [
        "df = pd.read_csv('carpet.csv')"
      ],
      "execution_count": null,
      "outputs": []
    },
    {
      "cell_type": "code",
      "metadata": {
        "id": "b54hULemepX2",
        "colab_type": "code",
        "colab": {},
        "outputId": "3ace64fd-dfa1-4578-9412-e8af74d4dc58"
      },
      "source": [
        "df"
      ],
      "execution_count": null,
      "outputs": [
        {
          "output_type": "execute_result",
          "data": {
            "text/html": [
              "<div>\n",
              "<style scoped>\n",
              "    .dataframe tbody tr th:only-of-type {\n",
              "        vertical-align: middle;\n",
              "    }\n",
              "\n",
              "    .dataframe tbody tr th {\n",
              "        vertical-align: top;\n",
              "    }\n",
              "\n",
              "    .dataframe thead th {\n",
              "        text-align: right;\n",
              "    }\n",
              "</style>\n",
              "<table border=\"1\" class=\"dataframe\">\n",
              "  <thead>\n",
              "    <tr style=\"text-align: right;\">\n",
              "      <th></th>\n",
              "      <th>Durability</th>\n",
              "      <th>Carpet</th>\n",
              "      <th>Composition</th>\n",
              "    </tr>\n",
              "  </thead>\n",
              "  <tbody>\n",
              "    <tr>\n",
              "      <td>0</td>\n",
              "      <td>18.95</td>\n",
              "      <td>1</td>\n",
              "      <td>A</td>\n",
              "    </tr>\n",
              "    <tr>\n",
              "      <td>1</td>\n",
              "      <td>12.62</td>\n",
              "      <td>1</td>\n",
              "      <td>B</td>\n",
              "    </tr>\n",
              "    <tr>\n",
              "      <td>2</td>\n",
              "      <td>11.94</td>\n",
              "      <td>1</td>\n",
              "      <td>A</td>\n",
              "    </tr>\n",
              "    <tr>\n",
              "      <td>3</td>\n",
              "      <td>14.42</td>\n",
              "      <td>1</td>\n",
              "      <td>B</td>\n",
              "    </tr>\n",
              "    <tr>\n",
              "      <td>4</td>\n",
              "      <td>10.06</td>\n",
              "      <td>2</td>\n",
              "      <td>A</td>\n",
              "    </tr>\n",
              "    <tr>\n",
              "      <td>5</td>\n",
              "      <td>7.19</td>\n",
              "      <td>2</td>\n",
              "      <td>B</td>\n",
              "    </tr>\n",
              "    <tr>\n",
              "      <td>6</td>\n",
              "      <td>7.03</td>\n",
              "      <td>2</td>\n",
              "      <td>A</td>\n",
              "    </tr>\n",
              "    <tr>\n",
              "      <td>7</td>\n",
              "      <td>14.66</td>\n",
              "      <td>2</td>\n",
              "      <td>B</td>\n",
              "    </tr>\n",
              "    <tr>\n",
              "      <td>8</td>\n",
              "      <td>10.92</td>\n",
              "      <td>3</td>\n",
              "      <td>A</td>\n",
              "    </tr>\n",
              "    <tr>\n",
              "      <td>9</td>\n",
              "      <td>13.28</td>\n",
              "      <td>3</td>\n",
              "      <td>B</td>\n",
              "    </tr>\n",
              "    <tr>\n",
              "      <td>10</td>\n",
              "      <td>14.52</td>\n",
              "      <td>3</td>\n",
              "      <td>A</td>\n",
              "    </tr>\n",
              "    <tr>\n",
              "      <td>11</td>\n",
              "      <td>12.51</td>\n",
              "      <td>3</td>\n",
              "      <td>B</td>\n",
              "    </tr>\n",
              "    <tr>\n",
              "      <td>12</td>\n",
              "      <td>10.46</td>\n",
              "      <td>4</td>\n",
              "      <td>A</td>\n",
              "    </tr>\n",
              "    <tr>\n",
              "      <td>13</td>\n",
              "      <td>21.40</td>\n",
              "      <td>4</td>\n",
              "      <td>B</td>\n",
              "    </tr>\n",
              "    <tr>\n",
              "      <td>14</td>\n",
              "      <td>18.10</td>\n",
              "      <td>4</td>\n",
              "      <td>A</td>\n",
              "    </tr>\n",
              "    <tr>\n",
              "      <td>15</td>\n",
              "      <td>22.50</td>\n",
              "      <td>4</td>\n",
              "      <td>B</td>\n",
              "    </tr>\n",
              "  </tbody>\n",
              "</table>\n",
              "</div>"
            ],
            "text/plain": [
              "    Durability  Carpet Composition\n",
              "0        18.95       1           A\n",
              "1        12.62       1           B\n",
              "2        11.94       1           A\n",
              "3        14.42       1           B\n",
              "4        10.06       2           A\n",
              "5         7.19       2           B\n",
              "6         7.03       2           A\n",
              "7        14.66       2           B\n",
              "8        10.92       3           A\n",
              "9        13.28       3           B\n",
              "10       14.52       3           A\n",
              "11       12.51       3           B\n",
              "12       10.46       4           A\n",
              "13       21.40       4           B\n",
              "14       18.10       4           A\n",
              "15       22.50       4           B"
            ]
          },
          "metadata": {
            "tags": []
          },
          "execution_count": 46
        }
      ]
    },
    {
      "cell_type": "code",
      "metadata": {
        "id": "0uVlKd1FepX5",
        "colab_type": "code",
        "colab": {},
        "outputId": "3fe8d8c8-3b0a-4e09-a435-b08f08f6bebf"
      },
      "source": [
        "stats.bartlett(df['Durability'][df['Carpet'] == 1], \n",
        "             df['Durability'][df['Carpet'] == 2],\n",
        "             df['Durability'][df['Carpet'] == 3],\n",
        "             df['Durability'][df['Carpet'] == 4])"
      ],
      "execution_count": null,
      "outputs": [
        {
          "output_type": "execute_result",
          "data": {
            "text/plain": [
              "BartlettResult(statistic=3.6873353831865456, pvalue=0.2972656895216277)"
            ]
          },
          "metadata": {
            "tags": []
          },
          "execution_count": 47
        }
      ]
    },
    {
      "cell_type": "markdown",
      "metadata": {
        "id": "UxKh5UDqepX6",
        "colab_type": "text"
      },
      "source": [
        "#### 0.29 > 0.05 so equal variance"
      ]
    },
    {
      "cell_type": "code",
      "metadata": {
        "id": "ZX_CrJYmepX6",
        "colab_type": "code",
        "colab": {},
        "outputId": "a2734c16-26ea-4f03-9517-166e02957be8"
      },
      "source": [
        "stats.f_oneway(df['Durability'][df['Carpet'] == 1], \n",
        "             df['Durability'][df['Carpet'] == 2],\n",
        "             df['Durability'][df['Carpet'] == 3],\n",
        "             df['Durability'][df['Carpet'] == 4])"
      ],
      "execution_count": null,
      "outputs": [
        {
          "output_type": "execute_result",
          "data": {
            "text/plain": [
              "F_onewayResult(statistic=3.581516025979231, pvalue=0.04673622246265323)"
            ]
          },
          "metadata": {
            "tags": []
          },
          "execution_count": 48
        }
      ]
    },
    {
      "cell_type": "markdown",
      "metadata": {
        "id": "jSpsxudtepX7",
        "colab_type": "text"
      },
      "source": [
        " F_statistic= 3.58, p = 0.046. This tells us that there is a significant difference in the group means."
      ]
    },
    {
      "cell_type": "code",
      "metadata": {
        "id": "gNxAjeGnepX7",
        "colab_type": "code",
        "colab": {},
        "outputId": "736e6e60-596a-4535-b532-ef3413af8cd5"
      },
      "source": [
        "from statsmodels.stats.multicomp import pairwise_tukeyhsd\n",
        "from statsmodels.stats.multicomp import MultiComparison\n",
        "\n",
        "mc = MultiComparison(df['Durability'], df['Carpet'])\n",
        "mc_results = mc.tukeyhsd()\n",
        "print(mc_results)"
      ],
      "execution_count": null,
      "outputs": [
        {
          "output_type": "stream",
          "text": [
            " Multiple Comparison of Means - Tukey HSD, FWER=0.05 \n",
            "=====================================================\n",
            "group1 group2 meandiff p-adj   lower    upper  reject\n",
            "-----------------------------------------------------\n",
            "     1      2  -4.7475 0.3118 -12.4969  3.0019  False\n",
            "     1      3   -1.675    0.9  -9.4244  6.0744  False\n",
            "     1      4   3.6325 0.5258  -4.1169 11.3819  False\n",
            "     2      3   3.0725 0.6402  -4.6769 10.8219  False\n",
            "     2      4     8.38 0.0328   0.6306 16.1294   True\n",
            "     3      4   5.3075 0.2296  -2.4419 13.0569  False\n",
            "-----------------------------------------------------\n"
          ],
          "name": "stdout"
        }
      ]
    },
    {
      "cell_type": "code",
      "metadata": {
        "id": "UgDXO3-jepX-",
        "colab_type": "code",
        "colab": {},
        "outputId": "0c5d69ce-1734-4fdd-fb2f-9aa7ac1521d9"
      },
      "source": [
        "stats.ttest_ind(df['Durability'][df['Carpet'] == 1], df['Durability'][df['Carpet'] == 2])"
      ],
      "execution_count": null,
      "outputs": [
        {
          "output_type": "execute_result",
          "data": {
            "text/plain": [
              "Ttest_indResult(statistic=1.9936018154522914, pvalue=0.09324942158759898)"
            ]
          },
          "metadata": {
            "tags": []
          },
          "execution_count": 86
        }
      ]
    },
    {
      "cell_type": "code",
      "metadata": {
        "id": "4hwtpn2-epX_",
        "colab_type": "code",
        "colab": {},
        "outputId": "da5fef6c-c4e0-4ea9-d5c3-371b3865f96e"
      },
      "source": [
        "stats.ttest_ind(df['Durability'][df['Carpet'] == 1], df['Durability'][df['Carpet'] == 3])"
      ],
      "execution_count": null,
      "outputs": [
        {
          "output_type": "execute_result",
          "data": {
            "text/plain": [
              "Ttest_indResult(statistic=0.9577587572326379, pvalue=0.3751689477291837)"
            ]
          },
          "metadata": {
            "tags": []
          },
          "execution_count": 87
        }
      ]
    },
    {
      "cell_type": "code",
      "metadata": {
        "id": "JktKtVkxepYC",
        "colab_type": "code",
        "colab": {},
        "outputId": "0b314684-ffe2-48aa-e392-afee8b94849d"
      },
      "source": [
        "stats.ttest_ind(df['Durability'][df['Carpet'] == 1], df['Durability'][df['Carpet'] == 4])"
      ],
      "execution_count": null,
      "outputs": [
        {
          "output_type": "execute_result",
          "data": {
            "text/plain": [
              "Ttest_indResult(statistic=-1.1558746276039693, pvalue=0.29167580291656153)"
            ]
          },
          "metadata": {
            "tags": []
          },
          "execution_count": 88
        }
      ]
    },
    {
      "cell_type": "code",
      "metadata": {
        "id": "QZ8ydrCcepYE",
        "colab_type": "code",
        "colab": {},
        "outputId": "2d5ed325-460b-42f9-f803-4f20b3b23df9"
      },
      "source": [
        "stats.ttest_ind(df['Durability'][df['Carpet'] == 2], df['Durability'][df['Carpet'] == 3])"
      ],
      "execution_count": null,
      "outputs": [
        {
          "output_type": "execute_result",
          "data": {
            "text/plain": [
              "Ttest_indResult(statistic=-1.5872958941273796, pvalue=0.16354318632626003)"
            ]
          },
          "metadata": {
            "tags": []
          },
          "execution_count": 89
        }
      ]
    },
    {
      "cell_type": "code",
      "metadata": {
        "id": "RbsY6n50epYG",
        "colab_type": "code",
        "colab": {},
        "outputId": "272c85a5-28bd-4932-d11a-58db00cff1c8"
      },
      "source": [
        "stats.ttest_ind(df['Durability'][df['Carpet'] == 2], df['Durability'][df['Carpet'] == 4])"
      ],
      "execution_count": null,
      "outputs": [
        {
          "output_type": "execute_result",
          "data": {
            "text/plain": [
              "Ttest_indResult(statistic=-2.578217458421381, pvalue=0.04186967631887867)"
            ]
          },
          "metadata": {
            "tags": []
          },
          "execution_count": 90
        }
      ]
    },
    {
      "cell_type": "code",
      "metadata": {
        "id": "yYxTbe0qepYI",
        "colab_type": "code",
        "colab": {},
        "outputId": "e83c4bcb-18ab-44f0-bc33-8b991057b3ef"
      },
      "source": [
        "stats.ttest_ind(df['Durability'][df['Carpet'] == 3], df['Durability'][df['Carpet'] == 4])"
      ],
      "execution_count": null,
      "outputs": [
        {
          "output_type": "execute_result",
          "data": {
            "text/plain": [
              "Ttest_indResult(statistic=-1.8821220295354195, pvalue=0.10883435905322392)"
            ]
          },
          "metadata": {
            "tags": []
          },
          "execution_count": 91
        }
      ]
    },
    {
      "cell_type": "code",
      "metadata": {
        "id": "wQiNu2RdepYK",
        "colab_type": "code",
        "colab": {},
        "outputId": "85899d3b-2a6a-478f-8821-5b0a09a898fb"
      },
      "source": [
        ".05/4"
      ],
      "execution_count": null,
      "outputs": [
        {
          "output_type": "execute_result",
          "data": {
            "text/plain": [
              "0.0125"
            ]
          },
          "metadata": {
            "tags": []
          },
          "execution_count": 92
        }
      ]
    },
    {
      "cell_type": "code",
      "metadata": {
        "id": "PL9YuFRPepYL",
        "colab_type": "code",
        "colab": {}
      },
      "source": [
        "import pandas as pd\n",
        "import scipy.stats as stats\n",
        "import statsmodels.api as sm\n",
        "from statsmodels.formula.api import ols\n",
        "    \n",
        "import matplotlib.pyplot as plt\n",
        "\n",
        "# Loading data\n",
        "df = pd.read_csv(\"difficile.csv\")\n",
        "df.drop('person', axis= 1, inplace= True)\n",
        "\n",
        "# Recoding value from numeric to string\n",
        "df['dose'].replace({1: 'placebo', 2: 'low', 3: 'high'}, inplace= True)"
      ],
      "execution_count": null,
      "outputs": []
    },
    {
      "cell_type": "code",
      "metadata": {
        "id": "rv1-hWibepYM",
        "colab_type": "code",
        "colab": {},
        "outputId": "b58cabb3-2ef8-46b9-b92d-833b4237c36b"
      },
      "source": [
        "stats.levene(df['libido'][df['dose'] == 'placebo'],\n",
        "             df['libido'][df['dose'] == 'low'],\n",
        "             df['libido'][df['dose'] == 'high'])"
      ],
      "execution_count": null,
      "outputs": [
        {
          "output_type": "execute_result",
          "data": {
            "text/plain": [
              "LeveneResult(statistic=0.11764705882352934, pvalue=0.8900225182757423)"
            ]
          },
          "metadata": {
            "tags": []
          },
          "execution_count": 73
        }
      ]
    },
    {
      "cell_type": "code",
      "metadata": {
        "id": "JkbugM30epYN",
        "colab_type": "code",
        "colab": {},
        "outputId": "aa077603-9029-4884-b7c6-d2ce495670d6"
      },
      "source": [
        "stats.bartlett(df['libido'][df['dose'] == 'placebo'],\n",
        "             df['libido'][df['dose'] == 'low'],\n",
        "             df['libido'][df['dose'] == 'high'])"
      ],
      "execution_count": null,
      "outputs": [
        {
          "output_type": "execute_result",
          "data": {
            "text/plain": [
              "BartlettResult(statistic=0.18530262983590715, pvalue=0.9115112752750292)"
            ]
          },
          "metadata": {
            "tags": []
          },
          "execution_count": 74
        }
      ]
    },
    {
      "cell_type": "markdown",
      "metadata": {
        "id": "jbqyvFWNepYO",
        "colab_type": "text"
      },
      "source": [
        "#### Levene’s test for homogeneity of variance is not significant which indicates that the groups have equal variances."
      ]
    },
    {
      "cell_type": "code",
      "metadata": {
        "id": "6pkHiMIAepYO",
        "colab_type": "code",
        "colab": {},
        "outputId": "4b7cd8ca-70c7-4c1c-a921-f3cb92d721fa"
      },
      "source": [
        "stats.f_oneway(df['libido'][df['dose'] == 'high'], \n",
        "             df['libido'][df['dose'] == 'low'],\n",
        "             df['libido'][df['dose'] == 'placebo'])"
      ],
      "execution_count": null,
      "outputs": [
        {
          "output_type": "execute_result",
          "data": {
            "text/plain": [
              "F_onewayResult(statistic=5.11864406779661, pvalue=0.024694289538222603)"
            ]
          },
          "metadata": {
            "tags": []
          },
          "execution_count": 75
        }
      ]
    },
    {
      "cell_type": "markdown",
      "metadata": {
        "id": "1x32mXxhepYQ",
        "colab_type": "text"
      },
      "source": [
        "The F-statistic= 5.119 and the p-value= 0.025 which is indicating that there is an overall significant effect of medication on libido. However, we don’t know where the difference between dosing/groups is yet. This is in the post-hoc section."
      ]
    },
    {
      "cell_type": "markdown",
      "metadata": {
        "id": "e9k4Kax8epYQ",
        "colab_type": "text"
      },
      "source": [
        "#### This tells us if we explained a significant amount of the overall variance. To test between groups, we need to do some post-hoc testing where we can compare all groups against each other. "
      ]
    },
    {
      "cell_type": "markdown",
      "metadata": {
        "id": "lUVAYav9epYQ",
        "colab_type": "text"
      },
      "source": [
        "<b>Post-hoc Testing</b>\n",
        "\n",
        "The overall model was significant, now to test which groups differ. Deciding which groups to compare should be theory driven. There are a few different techniques that can be used. Each of these techniques have different ways of controlling for familywise error rate. 3 common methods are:\n",
        "\n",
        "        Fisher’s Least Significant Difference (LSD): Take the groups you want to compare and conduct multiple t-tests. This method requires that the ANOVA model be significant. This method is easy, but receives push back since it doesn’t account for familywise error rate. The argument is that since the overall model was significant, one is protected from increasing the familywise error rate.\n",
        "\n",
        "        Bonferroni correction: Take the alpha the ANOVA was tested at, 0.05, then divide it by the number of planned comparisons. In this case, 0.05/3 = 0.0167. A post-hoc test would have to have an alpha level < 0.0167 to be considered significant. To test the groups, conduct multiple t-tests, but set the alpha value to the corrected value. This method is quick, but often considered too conservative.\n",
        "\n",
        "    Tukey’s HSD: Method also controls for familywise error rate with a different method than Bonferroni, and is also considered conservative.\n",
        "\n",
        "There are many other techniques out there that can be used for post-hoc testing each with different guidelines for when they should be used, you are encouraged to learn about them!"
      ]
    },
    {
      "cell_type": "markdown",
      "metadata": {
        "id": "1SGz4J5TepYR",
        "colab_type": "text"
      },
      "source": [
        "### Tukey’s HSD Post-hoc comparison"
      ]
    },
    {
      "cell_type": "code",
      "metadata": {
        "id": "jS3MDqawepYR",
        "colab_type": "code",
        "colab": {},
        "outputId": "48f1c0a9-2cba-43c1-9231-0131ecf52b68"
      },
      "source": [
        "from statsmodels.stats.multicomp import pairwise_tukeyhsd\n",
        "from statsmodels.stats.multicomp import MultiComparison\n",
        "\n",
        "mc = MultiComparison(df['libido'], df['dose'])\n",
        "mc_results = mc.tukeyhsd()\n",
        "print(mc_results)"
      ],
      "execution_count": null,
      "outputs": [
        {
          "output_type": "stream",
          "text": [
            " Multiple Comparison of Means - Tukey HSD, FWER=0.05 \n",
            "=====================================================\n",
            "group1  group2 meandiff p-adj   lower   upper  reject\n",
            "-----------------------------------------------------\n",
            "  high     low     -1.8 0.1472 -4.1651  0.5651  False\n",
            "  high placebo     -2.8 0.0209 -5.1651 -0.4349   True\n",
            "   low placebo     -1.0 0.5171 -3.3651  1.3651  False\n",
            "-----------------------------------------------------\n"
          ],
          "name": "stdout"
        }
      ]
    },
    {
      "cell_type": "markdown",
      "metadata": {
        "id": "pwbwxLeFepYS",
        "colab_type": "text"
      },
      "source": [
        "The Tukey HSD post-hoc comparison test controls for type I error and maintains the familywise error rate at 0.05 (FWER= 0.05 top of the table). The group1 and group2 columns are the groups being compared, the meandiff column is the difference in means of the two groups being calculated as group2 – group1, the lower/upper columns are the lower/upper boundaries of the 95% confidence interval, and the reject column states whether or not the null hypothesis should be rejected. Unfortunately, this method currently does not provide the t-statistic so treatment effect size cannot be calculated."
      ]
    },
    {
      "cell_type": "markdown",
      "metadata": {
        "id": "g8-DIncHepYT",
        "colab_type": "text"
      },
      "source": [
        "### Bonferroni Correction Post-hoc Comparison"
      ]
    },
    {
      "cell_type": "markdown",
      "metadata": {
        "id": "in3op52hepYT",
        "colab_type": "text"
      },
      "source": [
        "First the corrected p-value needs to be calculated. This can be done using the formula:\n",
        "\n",
        "p-value/# of comparisons = 0.05/3 = 0.01667\n",
        "\n",
        "Now the t-tests that are conducted have to have a p-value less than 0.01667 in order to be considered significant."
      ]
    },
    {
      "cell_type": "code",
      "metadata": {
        "id": "ZoUBR6G4epYT",
        "colab_type": "code",
        "colab": {},
        "outputId": "e4bf0476-dd9c-483f-c593-a259f0083cca"
      },
      "source": [
        "stats.ttest_ind(df['libido'][df['dose'] == 'high'], df['libido'][df['dose'] == 'low'])"
      ],
      "execution_count": null,
      "outputs": [
        {
          "output_type": "execute_result",
          "data": {
            "text/plain": [
              "Ttest_indResult(statistic=1.963961012123931, pvalue=0.08513507177899203)"
            ]
          },
          "metadata": {
            "tags": []
          },
          "execution_count": 77
        }
      ]
    },
    {
      "cell_type": "code",
      "metadata": {
        "id": "5Kq7Q15JepYU",
        "colab_type": "code",
        "colab": {},
        "outputId": "9adf72c7-d74a-45db-cb09-a1462f21adfa"
      },
      "source": [
        "stats.ttest_ind(df['libido'][df['dose'] == 'low'], df['libido'][df['dose'] == 'placebo'])"
      ],
      "execution_count": null,
      "outputs": [
        {
          "output_type": "execute_result",
          "data": {
            "text/plain": [
              "Ttest_indResult(statistic=1.2126781251816647, pvalue=0.2598450452137845)"
            ]
          },
          "metadata": {
            "tags": []
          },
          "execution_count": 78
        }
      ]
    },
    {
      "cell_type": "code",
      "metadata": {
        "id": "MidM4BI7epYV",
        "colab_type": "code",
        "colab": {},
        "outputId": "b05e25f6-e816-47ff-9c65-33d7bc7d92b8"
      },
      "source": [
        "stats.ttest_ind(df['libido'][df['dose'] == 'high'], df['libido'][df['dose'] == 'placebo'])"
      ],
      "execution_count": null,
      "outputs": [
        {
          "output_type": "execute_result",
          "data": {
            "text/plain": [
              "Ttest_indResult(statistic=3.0550504633038926, pvalue=0.015700141250047695)"
            ]
          },
          "metadata": {
            "tags": []
          },
          "execution_count": 79
        }
      ]
    },
    {
      "cell_type": "markdown",
      "metadata": {
        "id": "e5PC5SYsepYY",
        "colab_type": "text"
      },
      "source": [
        "Using the Bonferroni correction, only the difference between the high dose and placebo groups are significantly different. We can calculate the high dosing’s effect size! To calculate the effect size for the treatment dosing we also need to calculate the degrees of freedom since it’s not provided. The following equations can be used:\n",
        "\n",
        "dof = #_observations_group1 + #_observations_group2 - #_of_groups\n",
        "dof = 5 + 5 - 2 = 8\n",
        "effect size r = square root of (t2/t2 + dof)\n",
        "effect size r = sqrt(1.213**2/(1.213**2 + 8)) = 0.39\n",
        "\n",
        "\n",
        "The high dose has a medium effect size."
      ]
    },
    {
      "cell_type": "markdown",
      "metadata": {
        "id": "NjHWdkGyepYY",
        "colab_type": "text"
      },
      "source": [
        "<b>ANOVA Results Interpretation</b>\n",
        "\n",
        "While interpreting the ANOVA results, the Bonferroni post-hoc analysis results will be used.\n",
        "\n",
        "There was a significant effect of Difficile on the level of libido, F(2,12)= 5.12, p < 0.05, ?2 = 0.35. Planned post-hoc testing, using the Bonferroni correction ?= 0.0167, revealed that high dose of Difficile significantly increased libido compared to the placebo, t(8)=3.06, p < 0.0167, r= 0.39. There were no other statistically significant differences between groups. "
      ]
    },
    {
      "cell_type": "markdown",
      "metadata": {
        "id": "J0eT4hQTepYY",
        "colab_type": "text"
      },
      "source": [
        "### Kruskal Wallis H-test test"
      ]
    },
    {
      "cell_type": "code",
      "metadata": {
        "id": "s4Nkv9JWepYY",
        "colab_type": "code",
        "colab": {}
      },
      "source": [
        "import pandas\n",
        "from scipy.stats import mstats\n",
        "\n",
        "df = pd.read_csv(\"difficile.csv\")\n",
        "df.drop('person', axis= 1, inplace= True)\n",
        "\n",
        "# Recoding value from numeric to string\n",
        "df['dose'].replace({1: 'placebo', 2: 'low', 3: 'high'}, inplace= True)"
      ],
      "execution_count": null,
      "outputs": []
    },
    {
      "cell_type": "code",
      "metadata": {
        "id": "kCXP2Ak0epYa",
        "colab_type": "code",
        "colab": {},
        "outputId": "3d693561-8570-44de-8d54-11cdd7dee3f7"
      },
      "source": [
        "df"
      ],
      "execution_count": null,
      "outputs": [
        {
          "output_type": "execute_result",
          "data": {
            "text/html": [
              "<div>\n",
              "<style scoped>\n",
              "    .dataframe tbody tr th:only-of-type {\n",
              "        vertical-align: middle;\n",
              "    }\n",
              "\n",
              "    .dataframe tbody tr th {\n",
              "        vertical-align: top;\n",
              "    }\n",
              "\n",
              "    .dataframe thead th {\n",
              "        text-align: right;\n",
              "    }\n",
              "</style>\n",
              "<table border=\"1\" class=\"dataframe\">\n",
              "  <thead>\n",
              "    <tr style=\"text-align: right;\">\n",
              "      <th></th>\n",
              "      <th>dose</th>\n",
              "      <th>libido</th>\n",
              "    </tr>\n",
              "  </thead>\n",
              "  <tbody>\n",
              "    <tr>\n",
              "      <td>0</td>\n",
              "      <td>placebo</td>\n",
              "      <td>3</td>\n",
              "    </tr>\n",
              "    <tr>\n",
              "      <td>1</td>\n",
              "      <td>placebo</td>\n",
              "      <td>2</td>\n",
              "    </tr>\n",
              "    <tr>\n",
              "      <td>2</td>\n",
              "      <td>placebo</td>\n",
              "      <td>1</td>\n",
              "    </tr>\n",
              "    <tr>\n",
              "      <td>3</td>\n",
              "      <td>placebo</td>\n",
              "      <td>1</td>\n",
              "    </tr>\n",
              "    <tr>\n",
              "      <td>4</td>\n",
              "      <td>placebo</td>\n",
              "      <td>4</td>\n",
              "    </tr>\n",
              "    <tr>\n",
              "      <td>5</td>\n",
              "      <td>low</td>\n",
              "      <td>5</td>\n",
              "    </tr>\n",
              "    <tr>\n",
              "      <td>6</td>\n",
              "      <td>low</td>\n",
              "      <td>2</td>\n",
              "    </tr>\n",
              "    <tr>\n",
              "      <td>7</td>\n",
              "      <td>low</td>\n",
              "      <td>4</td>\n",
              "    </tr>\n",
              "    <tr>\n",
              "      <td>8</td>\n",
              "      <td>low</td>\n",
              "      <td>2</td>\n",
              "    </tr>\n",
              "    <tr>\n",
              "      <td>9</td>\n",
              "      <td>low</td>\n",
              "      <td>3</td>\n",
              "    </tr>\n",
              "    <tr>\n",
              "      <td>10</td>\n",
              "      <td>high</td>\n",
              "      <td>7</td>\n",
              "    </tr>\n",
              "    <tr>\n",
              "      <td>11</td>\n",
              "      <td>high</td>\n",
              "      <td>4</td>\n",
              "    </tr>\n",
              "    <tr>\n",
              "      <td>12</td>\n",
              "      <td>high</td>\n",
              "      <td>5</td>\n",
              "    </tr>\n",
              "    <tr>\n",
              "      <td>13</td>\n",
              "      <td>high</td>\n",
              "      <td>3</td>\n",
              "    </tr>\n",
              "    <tr>\n",
              "      <td>14</td>\n",
              "      <td>high</td>\n",
              "      <td>6</td>\n",
              "    </tr>\n",
              "  </tbody>\n",
              "</table>\n",
              "</div>"
            ],
            "text/plain": [
              "       dose  libido\n",
              "0   placebo       3\n",
              "1   placebo       2\n",
              "2   placebo       1\n",
              "3   placebo       1\n",
              "4   placebo       4\n",
              "5       low       5\n",
              "6       low       2\n",
              "7       low       4\n",
              "8       low       2\n",
              "9       low       3\n",
              "10     high       7\n",
              "11     high       4\n",
              "12     high       5\n",
              "13     high       3\n",
              "14     high       6"
            ]
          },
          "metadata": {
            "tags": []
          },
          "execution_count": 77
        }
      ]
    },
    {
      "cell_type": "code",
      "metadata": {
        "id": "fhMcoQxYepYb",
        "colab_type": "code",
        "colab": {}
      },
      "source": [
        "high = df['libido'][df['dose'] == 'high'] \n",
        "low = df['libido'][df['dose'] == 'low']\n",
        "placebo = df['libido'][df['dose'] == 'placebo']"
      ],
      "execution_count": null,
      "outputs": []
    },
    {
      "cell_type": "code",
      "metadata": {
        "id": "HeKeGsx9epYe",
        "colab_type": "code",
        "colab": {},
        "outputId": "aabc5e04-82d1-4260-c063-6c3a6f3d6908"
      },
      "source": [
        "np.array(high),np.array(low),np.array(placebo)"
      ],
      "execution_count": null,
      "outputs": [
        {
          "output_type": "execute_result",
          "data": {
            "text/plain": [
              "(array([7, 4, 5, 3, 6]), array([5, 2, 4, 2, 3]), array([3, 2, 1, 1, 4]))"
            ]
          },
          "metadata": {
            "tags": []
          },
          "execution_count": 79
        }
      ]
    },
    {
      "cell_type": "code",
      "metadata": {
        "id": "wvRIp9iQepYf",
        "colab_type": "code",
        "colab": {}
      },
      "source": [
        "import numpy as np"
      ],
      "execution_count": null,
      "outputs": []
    },
    {
      "cell_type": "code",
      "metadata": {
        "id": "RVuClCi3epYl",
        "colab_type": "code",
        "colab": {},
        "outputId": "fd7b2ed7-1c4f-4166-ffaa-053c70b1fb8c"
      },
      "source": [
        "groups = {}\n",
        "for grp in df['dose'].unique():\n",
        "    groups[grp] = df['libido'][df['dose']==grp].values\n",
        "\n",
        "print(groups)"
      ],
      "execution_count": null,
      "outputs": [
        {
          "output_type": "stream",
          "text": [
            "{'placebo': array([3, 2, 1, 1, 4]), 'low': array([5, 2, 4, 2, 3]), 'high': array([7, 4, 5, 3, 6])}\n"
          ],
          "name": "stdout"
        }
      ]
    },
    {
      "cell_type": "code",
      "metadata": {
        "id": "sbBAm18VepYm",
        "colab_type": "code",
        "colab": {},
        "outputId": "1e5d1058-e51e-4707-8586-7b964a82b71d"
      },
      "source": [
        "args = [groups[grp] for grp in sorted(df['dose'].unique())]\n",
        "args"
      ],
      "execution_count": null,
      "outputs": [
        {
          "output_type": "execute_result",
          "data": {
            "text/plain": [
              "[array([7, 4, 5, 3, 6]), array([5, 2, 4, 2, 3]), array([3, 2, 1, 1, 4])]"
            ]
          },
          "metadata": {
            "tags": []
          },
          "execution_count": 64
        }
      ]
    },
    {
      "cell_type": "code",
      "metadata": {
        "id": "HCQfb_tIepYp",
        "colab_type": "code",
        "colab": {},
        "outputId": "cd023da9-53e0-49af-aa0a-c3118df6b7e4"
      },
      "source": [
        "H, pval = mstats.kruskalwallis(np.array(high),np.array(low),np.array(placebo))\n",
        "#H, pval = mstats.kruskalwallis(*args)\n",
        "\n",
        "print(\"H-statistic:\", H)\n",
        "print(\"P-Value:\", pval)\n",
        "\n",
        "if pval < 0.05:\n",
        "    print(\"Reject NULL hypothesis - Significant differences exist between groups.\")\n",
        "if pval > 0.05:\n",
        "    print(\"Accept NULL hypothesis - No significant difference between groups.\")"
      ],
      "execution_count": null,
      "outputs": [
        {
          "output_type": "stream",
          "text": [
            "H-statistic: 6.200000000000009\n",
            "P-Value: 0.0450492023935576\n",
            "Reject NULL hypothesis - Significant differences exist between groups.\n"
          ],
          "name": "stdout"
        }
      ]
    },
    {
      "cell_type": "markdown",
      "metadata": {
        "id": "7ed5KkCdepYq",
        "colab_type": "text"
      },
      "source": [
        "A shoe company wants to know if three groups of workers have different salaries:"
      ]
    },
    {
      "cell_type": "code",
      "metadata": {
        "id": "7j3_EdSKepYr",
        "colab_type": "code",
        "colab": {},
        "outputId": "ef9528a2-676b-4a25-b163-63414b831cbb"
      },
      "source": [
        "Women = np.array([23000, 41000, 54000, 66000, 78000])\n",
        "Men = np.array([45000, 55000, 60000, 70000, 72000])\n",
        "Minorities =  np.array([1800, 3000, 3400, 4000, 4400])\n",
        "data = list(zip(Women,Men,Minorities))\n",
        "data"
      ],
      "execution_count": null,
      "outputs": [
        {
          "output_type": "execute_result",
          "data": {
            "text/plain": [
              "[(23000, 45000, 1800),\n",
              " (41000, 55000, 3000),\n",
              " (54000, 60000, 3400),\n",
              " (66000, 70000, 4000),\n",
              " (78000, 72000, 4400)]"
            ]
          },
          "metadata": {
            "tags": []
          },
          "execution_count": 121
        }
      ]
    },
    {
      "cell_type": "code",
      "metadata": {
        "id": "nZkA_v8OepYs",
        "colab_type": "code",
        "colab": {},
        "outputId": "3dc36e47-bcf2-47b4-d2b9-fe55fe6be3f6"
      },
      "source": [
        "df = pd.DataFrame(data, columns = ['Women','Men','Minorities'])\n",
        "df"
      ],
      "execution_count": null,
      "outputs": [
        {
          "output_type": "execute_result",
          "data": {
            "text/html": [
              "<div>\n",
              "<style scoped>\n",
              "    .dataframe tbody tr th:only-of-type {\n",
              "        vertical-align: middle;\n",
              "    }\n",
              "\n",
              "    .dataframe tbody tr th {\n",
              "        vertical-align: top;\n",
              "    }\n",
              "\n",
              "    .dataframe thead th {\n",
              "        text-align: right;\n",
              "    }\n",
              "</style>\n",
              "<table border=\"1\" class=\"dataframe\">\n",
              "  <thead>\n",
              "    <tr style=\"text-align: right;\">\n",
              "      <th></th>\n",
              "      <th>Women</th>\n",
              "      <th>Men</th>\n",
              "      <th>Minorities</th>\n",
              "    </tr>\n",
              "  </thead>\n",
              "  <tbody>\n",
              "    <tr>\n",
              "      <td>0</td>\n",
              "      <td>23000</td>\n",
              "      <td>45000</td>\n",
              "      <td>1800</td>\n",
              "    </tr>\n",
              "    <tr>\n",
              "      <td>1</td>\n",
              "      <td>41000</td>\n",
              "      <td>55000</td>\n",
              "      <td>3000</td>\n",
              "    </tr>\n",
              "    <tr>\n",
              "      <td>2</td>\n",
              "      <td>54000</td>\n",
              "      <td>60000</td>\n",
              "      <td>3400</td>\n",
              "    </tr>\n",
              "    <tr>\n",
              "      <td>3</td>\n",
              "      <td>66000</td>\n",
              "      <td>70000</td>\n",
              "      <td>4000</td>\n",
              "    </tr>\n",
              "    <tr>\n",
              "      <td>4</td>\n",
              "      <td>78000</td>\n",
              "      <td>72000</td>\n",
              "      <td>4400</td>\n",
              "    </tr>\n",
              "  </tbody>\n",
              "</table>\n",
              "</div>"
            ],
            "text/plain": [
              "   Women    Men  Minorities\n",
              "0  23000  45000        1800\n",
              "1  41000  55000        3000\n",
              "2  54000  60000        3400\n",
              "3  66000  70000        4000\n",
              "4  78000  72000        4400"
            ]
          },
          "metadata": {
            "tags": []
          },
          "execution_count": 122
        }
      ]
    },
    {
      "cell_type": "code",
      "metadata": {
        "id": "NyfpKd0eepYy",
        "colab_type": "code",
        "colab": {},
        "outputId": "4765ed92-453c-4c8a-a29a-ad9ba410073f"
      },
      "source": [
        "stats.bartlett(df['Women'],df['Men'],df['Minorities'])"
      ],
      "execution_count": null,
      "outputs": [
        {
          "output_type": "execute_result",
          "data": {
            "text/plain": [
              "BartlettResult(statistic=17.48023090929511, pvalue=0.00016003541001102507)"
            ]
          },
          "metadata": {
            "tags": []
          },
          "execution_count": 123
        }
      ]
    },
    {
      "cell_type": "code",
      "metadata": {
        "id": "Cua_ZknjepYz",
        "colab_type": "code",
        "colab": {},
        "outputId": "b903578c-c498-4147-ab13-86689884039b"
      },
      "source": [
        "H, pval = mstats.kruskalwallis(df['Women'].values,df['Men'].values,df['Minorities'].values)\n",
        "#H, pval = mstats.kruskalwallis(*args)\n",
        "\n",
        "print(\"H-statistic:\", H)\n",
        "print(\"P-Value:\", pval)\n",
        "\n",
        "if pval < 0.05:\n",
        "    print(\"Reject NULL hypothesis - Significant differences exist between groups.\")\n",
        "if pval > 0.05:\n",
        "    print(\"Accept NULL hypothesis - No significant difference between groups.\")"
      ],
      "execution_count": null,
      "outputs": [
        {
          "output_type": "stream",
          "text": [
            "H-statistic: 9.620000000000005\n",
            "P-Value: 0.008147859697679966\n",
            "Reject NULL hypothesis - Significant differences exist between groups.\n"
          ],
          "name": "stdout"
        }
      ]
    },
    {
      "cell_type": "markdown",
      "metadata": {
        "id": "FtSQZnZRepY3",
        "colab_type": "text"
      },
      "source": [
        "### Wilcoxon"
      ]
    },
    {
      "cell_type": "markdown",
      "metadata": {
        "id": "9BNa2_2TepY3",
        "colab_type": "text"
      },
      "source": [
        "The Wilcoxon signed-rank test tests the null hypothesis that two related paired samples come from the same distribution. In particular, it tests whether the distribution of the differences x - y is symmetric about zero. It is a non-parametric version of the paired T-test."
      ]
    },
    {
      "cell_type": "markdown",
      "metadata": {
        "id": "R3kFuDwgepY3",
        "colab_type": "text"
      },
      "source": [
        "the differences in height between cross- and self-fertilized corn plants is given as follows:"
      ]
    },
    {
      "cell_type": "code",
      "metadata": {
        "id": "vhBGqzTLepY5",
        "colab_type": "code",
        "colab": {}
      },
      "source": [
        "d = [6, 8, 14, 16, 23, 24, 28, 29, 41, -48, 49, 56, 60, -67, 75]"
      ],
      "execution_count": null,
      "outputs": []
    },
    {
      "cell_type": "markdown",
      "metadata": {
        "id": "sQtnpDS2epY7",
        "colab_type": "text"
      },
      "source": [
        "Cross-fertilized plants appear to be be higher. To test the null hypothesis that there is no height difference, we can apply the two-sided test:"
      ]
    },
    {
      "cell_type": "code",
      "metadata": {
        "id": "TU1-lpjfepY7",
        "colab_type": "code",
        "colab": {},
        "outputId": "fc91913d-20fd-41e1-f191-86f5226b7bc8"
      },
      "source": [
        "from scipy.stats import wilcoxon\n",
        "w, p = wilcoxon(d)\n",
        "w,p"
      ],
      "execution_count": null,
      "outputs": [
        {
          "output_type": "execute_result",
          "data": {
            "text/plain": [
              "(24.0, 0.04088813291185591)"
            ]
          },
          "metadata": {
            "tags": []
          },
          "execution_count": 126
        }
      ]
    },
    {
      "cell_type": "markdown",
      "metadata": {
        "id": "1CvdVyQkepZB",
        "colab_type": "text"
      },
      "source": [
        "Hence, we would reject the null hypothesis at a confidence level of 5%, concluding that there is a difference in height between the groups. "
      ]
    },
    {
      "cell_type": "code",
      "metadata": {
        "id": "-EAwp4KYepZC",
        "colab_type": "code",
        "colab": {}
      },
      "source": [
        ""
      ],
      "execution_count": null,
      "outputs": []
    }
  ]
}